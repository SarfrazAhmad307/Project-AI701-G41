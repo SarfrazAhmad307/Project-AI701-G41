{
 "cells": [
  {
   "cell_type": "code",
   "execution_count": 1,
   "metadata": {
    "_cell_guid": "b1076dfc-b9ad-4769-8c92-a6c4dae69d19",
    "_uuid": "8f2839f25d086af736a60e9eeb907d3b93b6e0e5",
    "execution": {
     "iopub.execute_input": "2024-11-20T15:16:30.984971Z",
     "iopub.status.busy": "2024-11-20T15:16:30.984719Z",
     "iopub.status.idle": "2024-11-20T15:16:54.538129Z",
     "shell.execute_reply": "2024-11-20T15:16:54.537285Z",
     "shell.execute_reply.started": "2024-11-20T15:16:30.984945Z"
    },
    "trusted": true
   },
   "outputs": [
    {
     "name": "stdout",
     "output_type": "stream",
     "text": [
      "Requirement already satisfied: gensim in /opt/conda/lib/python3.10/site-packages (4.3.3)\n",
      "Requirement already satisfied: numpy<2.0,>=1.18.5 in /opt/conda/lib/python3.10/site-packages (from gensim) (1.26.4)\n",
      "Collecting scipy<1.14.0,>=1.7.0 (from gensim)\n",
      "  Downloading scipy-1.13.1-cp310-cp310-manylinux_2_17_x86_64.manylinux2014_x86_64.whl.metadata (60 kB)\n",
      "\u001b[2K     \u001b[90m━━━━━━━━━━━━━━━━━━━━━━━━━━━━━━━━━━━━━━━━\u001b[0m \u001b[32m60.6/60.6 kB\u001b[0m \u001b[31m2.8 MB/s\u001b[0m eta \u001b[36m0:00:00\u001b[0m\n",
      "\u001b[?25hRequirement already satisfied: smart-open>=1.8.1 in /opt/conda/lib/python3.10/site-packages (from gensim) (7.0.4)\n",
      "Requirement already satisfied: wrapt in /opt/conda/lib/python3.10/site-packages (from smart-open>=1.8.1->gensim) (1.16.0)\n",
      "Downloading scipy-1.13.1-cp310-cp310-manylinux_2_17_x86_64.manylinux2014_x86_64.whl (38.6 MB)\n",
      "\u001b[2K   \u001b[90m━━━━━━━━━━━━━━━━━━━━━━━━━━━━━━━━━━━━━━━━\u001b[0m \u001b[32m38.6/38.6 MB\u001b[0m \u001b[31m46.1 MB/s\u001b[0m eta \u001b[36m0:00:00\u001b[0m:00:01\u001b[0m00:01\u001b[0m\n",
      "\u001b[?25hInstalling collected packages: scipy\n",
      "  Attempting uninstall: scipy\n",
      "    Found existing installation: scipy 1.14.1\n",
      "    Uninstalling scipy-1.14.1:\n",
      "      Successfully uninstalled scipy-1.14.1\n"
     ]
    },
    {
     "name": "stderr",
     "output_type": "stream",
     "text": [
      "\u001b[31mERROR: pip's dependency resolver does not currently take into account all the packages that are installed. This behaviour is the source of the following dependency conflicts.\n",
      "cuml 24.8.0 requires cupy-cuda11x>=12.0.0, which is not installed.\n",
      "cesium 0.12.3 requires numpy<3.0,>=2.0, but you have numpy 1.26.4 which is incompatible.\n",
      "libpysal 4.9.2 requires packaging>=22, but you have packaging 21.3 which is incompatible.\n",
      "libpysal 4.9.2 requires shapely>=2.0.1, but you have shapely 1.8.5.post1 which is incompatible.\n",
      "tsfresh 0.20.3 requires scipy>=1.14.0; python_version >= \"3.10\", but you have scipy 1.13.1 which is incompatible.\u001b[0m\u001b[31m\n"
     ]
    },
    {
     "name": "stdout",
     "output_type": "stream",
     "text": [
      "Successfully installed scipy-1.13.1\n",
      "Requirement already satisfied: emoji in /opt/conda/lib/python3.10/site-packages (2.13.2)\n",
      "Collecting stopwordsiso\n",
      "  Downloading stopwordsiso-0.6.1-py3-none-any.whl.metadata (2.5 kB)\n",
      "Downloading stopwordsiso-0.6.1-py3-none-any.whl (73 kB)\n",
      "\u001b[2K   \u001b[90m━━━━━━━━━━━━━━━━━━━━━━━━━━━━━━━━━━━━━━━━\u001b[0m \u001b[32m73.5/73.5 kB\u001b[0m \u001b[31m2.0 MB/s\u001b[0m eta \u001b[36m0:00:00\u001b[0m\n",
      "\u001b[?25hInstalling collected packages: stopwordsiso\n",
      "Successfully installed stopwordsiso-0.6.1\n"
     ]
    },
    {
     "name": "stderr",
     "output_type": "stream",
     "text": [
      "\u001b[0m"
     ]
    }
   ],
   "source": [
    "%%bash\n",
    "pip install gensim\n",
    "pip install emoji --no-deps\n",
    "pip install stopwordsiso"
   ]
  },
  {
   "cell_type": "markdown",
   "metadata": {},
   "source": [
    "## Import Libraries"
   ]
  },
  {
   "cell_type": "code",
   "execution_count": 2,
   "metadata": {
    "execution": {
     "iopub.execute_input": "2024-11-20T15:16:54.539876Z",
     "iopub.status.busy": "2024-11-20T15:16:54.539575Z",
     "iopub.status.idle": "2024-11-20T15:17:12.519650Z",
     "shell.execute_reply": "2024-11-20T15:17:12.518773Z",
     "shell.execute_reply.started": "2024-11-20T15:16:54.539847Z"
    },
    "trusted": true
   },
   "outputs": [
    {
     "name": "stdout",
     "output_type": "stream",
     "text": [
      "[nltk_data] Downloading package stopwords to /usr/share/nltk_data...\n",
      "[nltk_data]   Package stopwords is already up-to-date!\n",
      "[nltk_data] Downloading package punkt to /usr/share/nltk_data...\n",
      "[nltk_data]   Package punkt is already up-to-date!\n",
      "[nltk_data] Downloading package wordnet to /usr/share/nltk_data...\n",
      "[nltk_data]   Package wordnet is already up-to-date!\n"
     ]
    }
   ],
   "source": [
    "import re\n",
    "import string\n",
    "import emoji\n",
    "import pandas as pd\n",
    "import nltk\n",
    "import stopwordsiso\n",
    "from bs4 import BeautifulSoup\n",
    "\n",
    "nltk.download('stopwords')\n",
    "nltk.download('punkt')\n",
    "nltk.download('wordnet')\n",
    "\n",
    "import pandas as pd\n",
    "from stopwordsiso import stopwords\n",
    "from sklearn.utils import resample\n",
    "from wordcloud import WordCloud\n",
    "import matplotlib.pyplot as plt\n",
    "import seaborn as sns\n",
    "import numpy as np\n",
    "import re\n",
    "from sklearn.feature_extraction.text import TfidfVectorizer, TfidfTransformer, CountVectorizer\n",
    "from sklearn.model_selection import train_test_split\n",
    "from sklearn.metrics import confusion_matrix, precision_score, recall_score, f1_score, accuracy_score, roc_auc_score, roc_curve, precision_recall_curve, precision_recall_curve\n",
    "from sklearn import metrics\n",
    "from sklearn.compose import ColumnTransformer\n",
    "from sklearn.preprocessing import OneHotEncoder\n",
    "from sklearn.naive_bayes import GaussianNB\n",
    "from sklearn.tree import DecisionTreeClassifier\n",
    "from sklearn.neighbors import KNeighborsClassifier\n",
    "from sklearn.linear_model import LogisticRegression\n",
    "from sklearn.ensemble import RandomForestClassifier\n",
    "from sklearn.metrics import accuracy_score, precision_recall_fscore_support\n",
    "from transformers import AutoTokenizer, AutoModel\n",
    "from transformers import AutoTokenizer, AutoModelForMaskedLM\n",
    "from sklearn import svm\n",
    "import pickle\n",
    "import time\n",
    "import pandas as pd\n",
    "from sklearn.model_selection import train_test_split\n",
    "from transformers import BertTokenizer, BertForSequenceClassification, Trainer, TrainingArguments\n",
    "from torch.utils.data import Dataset, DataLoader\n",
    "import matplotlib.pyplot as plt\n",
    "from sklearn.metrics import confusion_matrix, ConfusionMatrixDisplay\n",
    "import torch\n",
    "import torch.nn as nn\n",
    "from torch.utils.data import DataLoader, Dataset\n",
    "from sklearn.model_selection import train_test_split\n",
    "from sklearn.metrics import classification_report\n",
    "from sklearn.preprocessing import LabelEncoder\n",
    "from transformers import BertTokenizer\n",
    "from torch.nn.utils.rnn import pad_sequence\n",
    "import torch\n",
    "from transformers import BertModel, BertTokenizer\n",
    "import gc\n",
    "from transformers import (\n",
    "    BertTokenizer, BertModel,\n",
    "    RobertaTokenizer, RobertaModel,\n",
    "    DistilBertTokenizer, DistilBertModel\n",
    ")\n",
    "\n",
    "from sklearn.model_selection import train_test_split\n",
    "import re\n",
    "import os\n",
    "import requests\n",
    "import gc\n",
    "from tqdm.auto import tqdm\n",
    "\n",
    "import warnings\n",
    "warnings.filterwarnings('ignore')"
   ]
  },
  {
   "cell_type": "code",
   "execution_count": 3,
   "metadata": {
    "execution": {
     "iopub.execute_input": "2024-11-20T15:17:12.521993Z",
     "iopub.status.busy": "2024-11-20T15:17:12.520924Z",
     "iopub.status.idle": "2024-11-20T15:17:12.628680Z",
     "shell.execute_reply": "2024-11-20T15:17:12.627893Z",
     "shell.execute_reply.started": "2024-11-20T15:17:12.521950Z"
    },
    "trusted": true
   },
   "outputs": [],
   "source": [
    "train = pd.read_csv('/kaggle/input/hasoc19-hindi-dataset/hindi_dataset.tsv', sep='\\t')\n",
    "test = pd.read_csv('/kaggle/input/hasoc19-hindi-dataset/hasoc2019_hi_test_gold_2919.tsv', sep='\\t')\n",
    "\n",
    "train.drop([\"text_id\", 'task_2', 'task_3'], axis=1, inplace=True)\n",
    "test.drop([\"text_id\", 'task_2', 'task_3'], axis=1, inplace=True)\n",
    "\n",
    "# rename task_1 to label\n",
    "train.rename(columns={'task_1': 'label'}, inplace=True)\n",
    "test.rename(columns={'task_1': 'label'}, inplace=True)\n",
    "\n",
    "# Map the labels to integers\n",
    "label_map = {'HOF': 1, 'NOT': 0}\n",
    "\n",
    "train['label'] = train['label'].map(label_map)\n",
    "test['label'] = test['label'].map(label_map)"
   ]
  },
  {
   "cell_type": "code",
   "execution_count": 4,
   "metadata": {
    "execution": {
     "iopub.execute_input": "2024-11-20T15:17:12.630847Z",
     "iopub.status.busy": "2024-11-20T15:17:12.630511Z",
     "iopub.status.idle": "2024-11-20T15:17:12.637438Z",
     "shell.execute_reply": "2024-11-20T15:17:12.636494Z",
     "shell.execute_reply.started": "2024-11-20T15:17:12.630817Z"
    },
    "trusted": true
   },
   "outputs": [
    {
     "data": {
      "text/plain": [
       "((4665, 2), (1318, 2))"
      ]
     },
     "execution_count": 4,
     "metadata": {},
     "output_type": "execute_result"
    }
   ],
   "source": [
    "train.shape, test.shape"
   ]
  },
  {
   "cell_type": "markdown",
   "metadata": {},
   "source": [
    "## Data Pre-processing"
   ]
  },
  {
   "cell_type": "code",
   "execution_count": 5,
   "metadata": {
    "execution": {
     "iopub.execute_input": "2024-11-20T15:17:12.638776Z",
     "iopub.status.busy": "2024-11-20T15:17:12.638493Z",
     "iopub.status.idle": "2024-11-20T15:17:12.645599Z",
     "shell.execute_reply": "2024-11-20T15:17:12.644850Z",
     "shell.execute_reply.started": "2024-11-20T15:17:12.638752Z"
    },
    "trusted": true
   },
   "outputs": [],
   "source": [
    "def preprocess_hindi_text(df):\n",
    "    \"\"\"\n",
    "    Preprocess Hindi text data in the 'text' column by:\n",
    "    - Removing mentions (@USERS)\n",
    "    - Removing hashtags\n",
    "    - Removing URLs\n",
    "    - Removing punctuation\n",
    "    - Collapsing multiple spaces\n",
    "    - Converting text to lowercase\n",
    "    \n",
    "    Parameters:\n",
    "        df (pd.DataFrame): The dataset containing the 'text' column.\n",
    "        \n",
    "    Returns:\n",
    "        pd.DataFrame: The processed dataset with the 'text' column cleaned.\n",
    "    \"\"\"\n",
    "    # Removing @USER mentions\n",
    "    df['text'] = df['text'].str.replace(r'@\\w+\\s*', '', regex=True)\n",
    "    \n",
    "    # Removing hashtags\n",
    "    df['text'] = df['text'].str.replace(r'#\\w+', '', regex=True)\n",
    "    \n",
    "    # Removing URLs\n",
    "    df['text'] = df['text'].str.replace(r'https?://\\S+|www\\.\\S+', '', regex=True)\n",
    "    \n",
    "    # Removing punctuation\n",
    "    df['text'] = df['text'].str.replace(f'[{string.punctuation}]', '', regex=True)\n",
    "    \n",
    "    # Removing extra spaces\n",
    "    df['text'] = df['text'].str.replace(r'\\s+', ' ', regex=True).str.strip()\n",
    "    \n",
    "    # Converting text to lowercase\n",
    "    df['text'] = df['text'].str.lower()\n",
    "    \n",
    "    return df\n",
    "\n",
    "def process_text_with_emojis(text):\n",
    "    text_without_emojis = emoji.demojize(text)\n",
    "    return text_without_emojis"
   ]
  },
  {
   "cell_type": "code",
   "execution_count": 6,
   "metadata": {
    "execution": {
     "iopub.execute_input": "2024-11-20T15:17:12.647129Z",
     "iopub.status.busy": "2024-11-20T15:17:12.646849Z",
     "iopub.status.idle": "2024-11-20T15:17:13.546768Z",
     "shell.execute_reply": "2024-11-20T15:17:13.545649Z",
     "shell.execute_reply.started": "2024-11-20T15:17:12.647101Z"
    },
    "trusted": true
   },
   "outputs": [],
   "source": [
    "train = preprocess_hindi_text(train)\n",
    "test = preprocess_hindi_text(test)\n",
    "\n",
    "train[\"text\"] = train[\"text\"].apply(process_text_with_emojis)\n",
    "test[\"text\"] = test[\"text\"].apply(process_text_with_emojis)"
   ]
  },
  {
   "cell_type": "code",
   "execution_count": 7,
   "metadata": {
    "execution": {
     "iopub.execute_input": "2024-11-20T15:17:13.548305Z",
     "iopub.status.busy": "2024-11-20T15:17:13.547884Z",
     "iopub.status.idle": "2024-11-20T15:17:13.589020Z",
     "shell.execute_reply": "2024-11-20T15:17:13.588108Z",
     "shell.execute_reply.started": "2024-11-20T15:17:13.548255Z"
    },
    "trusted": true
   },
   "outputs": [],
   "source": [
    "train['text'] = train['text'].str.replace(r'।+', '', regex=True)\n",
    "# Remove Digits\n",
    "test['text'] = test['text'].str.replace(r'\\d+', '', regex=True)"
   ]
  },
  {
   "cell_type": "code",
   "execution_count": 8,
   "metadata": {
    "execution": {
     "iopub.execute_input": "2024-11-20T15:17:13.590680Z",
     "iopub.status.busy": "2024-11-20T15:17:13.590289Z",
     "iopub.status.idle": "2024-11-20T15:17:14.044845Z",
     "shell.execute_reply": "2024-11-20T15:17:14.043781Z",
     "shell.execute_reply.started": "2024-11-20T15:17:13.590636Z"
    },
    "trusted": true
   },
   "outputs": [
    {
     "data": {
      "text/plain": [
       "True"
      ]
     },
     "execution_count": 8,
     "metadata": {},
     "output_type": "execute_result"
    }
   ],
   "source": [
    "stopwordsiso.has_lang(\"hi\")  # check if there is a stopwords for hindi language"
   ]
  },
  {
   "cell_type": "code",
   "execution_count": 9,
   "metadata": {
    "execution": {
     "iopub.execute_input": "2024-11-20T15:17:14.046615Z",
     "iopub.status.busy": "2024-11-20T15:17:14.046164Z",
     "iopub.status.idle": "2024-11-20T15:17:14.101864Z",
     "shell.execute_reply": "2024-11-20T15:17:14.100888Z",
     "shell.execute_reply.started": "2024-11-20T15:17:14.046559Z"
    },
    "trusted": true
   },
   "outputs": [],
   "source": [
    "# Load Hindi stopwords\n",
    "marathi_stopwords = stopwords(\"hi\")\n",
    "\n",
    "def remove_stopwords(text):\n",
    "    words = text.split()\n",
    "    filtered_words = [word for word in words if word not in marathi_stopwords]\n",
    "    return ' '.join(filtered_words)\n",
    "\n",
    "train['text'] = train['text'].apply(remove_stopwords)\n",
    "test['text'] = test['text'].apply(remove_stopwords)"
   ]
  },
  {
   "cell_type": "code",
   "execution_count": 10,
   "metadata": {
    "execution": {
     "iopub.execute_input": "2024-11-20T15:17:14.106530Z",
     "iopub.status.busy": "2024-11-20T15:17:14.106212Z",
     "iopub.status.idle": "2024-11-20T15:17:14.213123Z",
     "shell.execute_reply": "2024-11-20T15:17:14.212317Z",
     "shell.execute_reply.started": "2024-11-20T15:17:14.106502Z"
    },
    "trusted": true
   },
   "outputs": [],
   "source": [
    "# Seperating hindi and english words\n",
    "def insert_space(sentence):\n",
    "    cleaned_sentence = re.sub(r'([a-zA-Z])([ऀ-ॿ]+)|([ऀ-ॿ]+)([a-zA-Z])', r'\\1 \\2\\3 \\4', sentence)\n",
    "    return cleaned_sentence\n",
    "\n",
    "train['text'] = train[\"text\"].apply(insert_space)\n",
    "test['text'] = test[\"text\"].apply(insert_space)"
   ]
  },
  {
   "cell_type": "code",
   "execution_count": 11,
   "metadata": {
    "execution": {
     "iopub.execute_input": "2024-11-20T15:17:14.214347Z",
     "iopub.status.busy": "2024-11-20T15:17:14.214086Z",
     "iopub.status.idle": "2024-11-20T15:17:14.266117Z",
     "shell.execute_reply": "2024-11-20T15:17:14.265231Z",
     "shell.execute_reply.started": "2024-11-20T15:17:14.214316Z"
    },
    "trusted": true
   },
   "outputs": [],
   "source": [
    "# Replace multiple consecutive whitespace characters (spaces, tabs, newlines) with a single space\n",
    "# Then, remove leading and trailing spaces from the text\n",
    "train['text'] = train['text'].str.replace(r'\\s+', ' ', regex=True).str.strip()\n",
    "test['text'] = test['text'].str.replace(r'\\s+', ' ', regex=True).str.strip()"
   ]
  },
  {
   "cell_type": "code",
   "execution_count": 12,
   "metadata": {
    "execution": {
     "iopub.execute_input": "2024-11-20T15:17:14.267544Z",
     "iopub.status.busy": "2024-11-20T15:17:14.267192Z",
     "iopub.status.idle": "2024-11-20T15:17:14.278667Z",
     "shell.execute_reply": "2024-11-20T15:17:14.277837Z",
     "shell.execute_reply.started": "2024-11-20T15:17:14.267507Z"
    },
    "trusted": true
   },
   "outputs": [
    {
     "data": {
      "text/html": [
       "<div>\n",
       "<style scoped>\n",
       "    .dataframe tbody tr th:only-of-type {\n",
       "        vertical-align: middle;\n",
       "    }\n",
       "\n",
       "    .dataframe tbody tr th {\n",
       "        vertical-align: top;\n",
       "    }\n",
       "\n",
       "    .dataframe thead th {\n",
       "        text-align: right;\n",
       "    }\n",
       "</style>\n",
       "<table border=\"1\" class=\"dataframe\">\n",
       "  <thead>\n",
       "    <tr style=\"text-align: right;\">\n",
       "      <th></th>\n",
       "      <th>text</th>\n",
       "      <th>label</th>\n",
       "    </tr>\n",
       "  </thead>\n",
       "  <tbody>\n",
       "    <tr>\n",
       "      <th>0</th>\n",
       "      <td>बांग्लादेश शानदार वापसी भारत 314 रन रोका</td>\n",
       "      <td>0</td>\n",
       "    </tr>\n",
       "    <tr>\n",
       "      <th>1</th>\n",
       "      <td>सब रंडी नाच देखने व्यस्त ांतीदूत होगा सब ंडीरो...</td>\n",
       "      <td>1</td>\n",
       "    </tr>\n",
       "    <tr>\n",
       "      <th>2</th>\n",
       "      <td>तुम हरामियों बस जूतों कमी शुक्र तुम्हारी लिंचि...</td>\n",
       "      <td>1</td>\n",
       "    </tr>\n",
       "    <tr>\n",
       "      <th>3</th>\n",
       "      <td>बीजेपी mla आकाश विजयवर्गीय जेल रिहा जमानत मिलन...</td>\n",
       "      <td>0</td>\n",
       "    </tr>\n",
       "    <tr>\n",
       "      <th>4</th>\n",
       "      <td>चमकी बुखार विधानसभा परिसर आरजेडी प्रदर्शन तेजस...</td>\n",
       "      <td>0</td>\n",
       "    </tr>\n",
       "  </tbody>\n",
       "</table>\n",
       "</div>"
      ],
      "text/plain": [
       "                                                text  label\n",
       "0           बांग्लादेश शानदार वापसी भारत 314 रन रोका      0\n",
       "1  सब रंडी नाच देखने व्यस्त ांतीदूत होगा सब ंडीरो...      1\n",
       "2  तुम हरामियों बस जूतों कमी शुक्र तुम्हारी लिंचि...      1\n",
       "3  बीजेपी mla आकाश विजयवर्गीय जेल रिहा जमानत मिलन...      0\n",
       "4  चमकी बुखार विधानसभा परिसर आरजेडी प्रदर्शन तेजस...      0"
      ]
     },
     "execution_count": 12,
     "metadata": {},
     "output_type": "execute_result"
    }
   ],
   "source": [
    "train.head()"
   ]
  },
  {
   "cell_type": "code",
   "execution_count": 13,
   "metadata": {
    "execution": {
     "iopub.execute_input": "2024-11-20T15:17:14.280523Z",
     "iopub.status.busy": "2024-11-20T15:17:14.279751Z",
     "iopub.status.idle": "2024-11-20T15:17:14.289438Z",
     "shell.execute_reply": "2024-11-20T15:17:14.288481Z",
     "shell.execute_reply.started": "2024-11-20T15:17:14.280466Z"
    },
    "trusted": true
   },
   "outputs": [
    {
     "data": {
      "text/html": [
       "<div>\n",
       "<style scoped>\n",
       "    .dataframe tbody tr th:only-of-type {\n",
       "        vertical-align: middle;\n",
       "    }\n",
       "\n",
       "    .dataframe tbody tr th {\n",
       "        vertical-align: top;\n",
       "    }\n",
       "\n",
       "    .dataframe thead th {\n",
       "        text-align: right;\n",
       "    }\n",
       "</style>\n",
       "<table border=\"1\" class=\"dataframe\">\n",
       "  <thead>\n",
       "    <tr style=\"text-align: right;\">\n",
       "      <th></th>\n",
       "      <th>text</th>\n",
       "      <th>label</th>\n",
       "    </tr>\n",
       "  </thead>\n",
       "  <tbody>\n",
       "    <tr>\n",
       "      <th>0</th>\n",
       "      <td>वक्त इन्सान इंग्लैंड मौसम आपको कभी धोखा दे है।</td>\n",
       "      <td>0</td>\n",
       "    </tr>\n",
       "    <tr>\n",
       "      <th>1</th>\n",
       "      <td>ांग्रेस ीने ूत देखिए देश रक्षा ीद मां भारती ूत...</td>\n",
       "      <td>1</td>\n",
       "    </tr>\n",
       "    <tr>\n",
       "      <th>2</th>\n",
       "      <td>पाकिस्तान फेकना फेका गया। हार दुश्मन हरा दे हम...</td>\n",
       "      <td>1</td>\n",
       "    </tr>\n",
       "    <tr>\n",
       "      <th>3</th>\n",
       "      <td>शब्द तूम आज औरत यूज वो बचाकर रखना क्योंकि कल क...</td>\n",
       "      <td>0</td>\n",
       "    </tr>\n",
       "    <tr>\n",
       "      <th>4</th>\n",
       "      <td>नेता जी हम समाजवादी सिपाही हमेशा आपके आपका हर ...</td>\n",
       "      <td>0</td>\n",
       "    </tr>\n",
       "  </tbody>\n",
       "</table>\n",
       "</div>"
      ],
      "text/plain": [
       "                                                text  label\n",
       "0     वक्त इन्सान इंग्लैंड मौसम आपको कभी धोखा दे है।      0\n",
       "1  ांग्रेस ीने ूत देखिए देश रक्षा ीद मां भारती ूत...      1\n",
       "2  पाकिस्तान फेकना फेका गया। हार दुश्मन हरा दे हम...      1\n",
       "3  शब्द तूम आज औरत यूज वो बचाकर रखना क्योंकि कल क...      0\n",
       "4  नेता जी हम समाजवादी सिपाही हमेशा आपके आपका हर ...      0"
      ]
     },
     "execution_count": 13,
     "metadata": {},
     "output_type": "execute_result"
    }
   ],
   "source": [
    "test.head()"
   ]
  },
  {
   "cell_type": "markdown",
   "metadata": {},
   "source": [
    "## LSTM"
   ]
  },
  {
   "cell_type": "code",
   "execution_count": 14,
   "metadata": {
    "execution": {
     "iopub.execute_input": "2024-11-20T15:17:14.290990Z",
     "iopub.status.busy": "2024-11-20T15:17:14.290602Z",
     "iopub.status.idle": "2024-11-20T15:17:16.269866Z",
     "shell.execute_reply": "2024-11-20T15:17:16.269172Z",
     "shell.execute_reply.started": "2024-11-20T15:17:14.290945Z"
    },
    "trusted": true
   },
   "outputs": [
    {
     "data": {
      "application/vnd.jupyter.widget-view+json": {
       "model_id": "a4701eba61d64d1093cb2cc1fa106113",
       "version_major": 2,
       "version_minor": 0
      },
      "text/plain": [
       "tokenizer_config.json:   0%|          | 0.00/407 [00:00<?, ?B/s]"
      ]
     },
     "metadata": {},
     "output_type": "display_data"
    },
    {
     "data": {
      "application/vnd.jupyter.widget-view+json": {
       "model_id": "ef70a34351794bf1b4a152802db09634",
       "version_major": 2,
       "version_minor": 0
      },
      "text/plain": [
       "vocab.txt:   0%|          | 0.00/799k [00:00<?, ?B/s]"
      ]
     },
     "metadata": {},
     "output_type": "display_data"
    },
    {
     "data": {
      "application/vnd.jupyter.widget-view+json": {
       "model_id": "a3b71e3d3dd641288e25251a60bc6f41",
       "version_major": 2,
       "version_minor": 0
      },
      "text/plain": [
       "tokenizer.json:   0%|          | 0.00/1.62M [00:00<?, ?B/s]"
      ]
     },
     "metadata": {},
     "output_type": "display_data"
    },
    {
     "data": {
      "application/vnd.jupyter.widget-view+json": {
       "model_id": "fbceb37a254d4960bfa4d47807f9cbba",
       "version_major": 2,
       "version_minor": 0
      },
      "text/plain": [
       "special_tokens_map.json:   0%|          | 0.00/125 [00:00<?, ?B/s]"
      ]
     },
     "metadata": {},
     "output_type": "display_data"
    }
   ],
   "source": [
    "# Parameters\n",
    "MAX_LEN = 128\n",
    "BATCH_SIZE = 32\n",
    "EPOCHS = 10\n",
    "EMBEDDING_DIM = 100\n",
    "HIDDEN_DIM = 128\n",
    "NUM_CLASSES = 2\n",
    "\n",
    "tokenizer = AutoTokenizer.from_pretrained(\"l3cube-pune/hindi-bert-scratch\")\n",
    "\n",
    "def tokenize_texts(texts):\n",
    "    return [torch.tensor(tokenizer.encode(text, truncation=True, max_length=MAX_LEN)) for text in texts]\n",
    "\n",
    "# Prepare datasets\n",
    "train_texts, val_texts, train_labels, val_labels = train_test_split(train['text'], train['label'], test_size=0.2, random_state=42, stratify=train['label'])\n",
    "test_texts, test_labels = test['text'], test['label']\n",
    "\n",
    "train_tokens = tokenize_texts(train_texts)\n",
    "val_tokens = tokenize_texts(val_texts)\n",
    "test_tokens = tokenize_texts(test_texts)\n",
    "\n",
    "# Label encoding\n",
    "label_encoder = LabelEncoder()\n",
    "train_labels = torch.tensor(label_encoder.fit_transform(train_labels))\n",
    "val_labels = torch.tensor(label_encoder.transform(val_labels))\n",
    "test_labels = torch.tensor(label_encoder.transform(test_labels))"
   ]
  },
  {
   "cell_type": "code",
   "execution_count": 15,
   "metadata": {
    "execution": {
     "iopub.execute_input": "2024-11-20T15:17:16.271197Z",
     "iopub.status.busy": "2024-11-20T15:17:16.270905Z",
     "iopub.status.idle": "2024-11-20T15:17:16.279129Z",
     "shell.execute_reply": "2024-11-20T15:17:16.278237Z",
     "shell.execute_reply.started": "2024-11-20T15:17:16.271164Z"
    },
    "trusted": true
   },
   "outputs": [],
   "source": [
    "# Dataset Class\n",
    "class TextDataset(Dataset):\n",
    "    def __init__(self, tokens, labels):\n",
    "        self.tokens = tokens\n",
    "        self.labels = labels\n",
    "\n",
    "    def __len__(self):\n",
    "        return len(self.labels)\n",
    "\n",
    "    def __getitem__(self, idx):\n",
    "        return self.tokens[idx], self.labels[idx]\n",
    "\n",
    "# Padding function\n",
    "def collate_fn(batch):\n",
    "    tokens, labels = zip(*batch)\n",
    "    tokens_padded = pad_sequence(tokens, batch_first=True, padding_value=tokenizer.pad_token_id)\n",
    "    return tokens_padded, torch.tensor(labels)\n",
    "\n",
    "# DataLoader\n",
    "train_dataset = TextDataset(train_tokens, train_labels)\n",
    "val_dataset = TextDataset(val_tokens, val_labels)\n",
    "test_dataset = TextDataset(test_tokens, test_labels)\n",
    "\n",
    "train_loader = DataLoader(train_dataset, batch_size=BATCH_SIZE, collate_fn=collate_fn, shuffle=True)\n",
    "val_loader = DataLoader(val_dataset, batch_size=BATCH_SIZE, collate_fn=collate_fn)\n",
    "test_loader = DataLoader(test_dataset, batch_size=BATCH_SIZE, collate_fn=collate_fn)"
   ]
  },
  {
   "cell_type": "code",
   "execution_count": 16,
   "metadata": {
    "execution": {
     "iopub.execute_input": "2024-11-20T15:17:16.280629Z",
     "iopub.status.busy": "2024-11-20T15:17:16.280291Z",
     "iopub.status.idle": "2024-11-20T15:17:16.733865Z",
     "shell.execute_reply": "2024-11-20T15:17:16.732959Z",
     "shell.execute_reply.started": "2024-11-20T15:17:16.280595Z"
    },
    "trusted": true
   },
   "outputs": [],
   "source": [
    "# LSTM Model\n",
    "class LSTMClassifier(nn.Module):\n",
    "    def __init__(self, vocab_size, embedding_dim, hidden_dim, num_classes):\n",
    "        super(LSTMClassifier, self).__init__()\n",
    "        self.embedding = nn.Embedding(vocab_size, embedding_dim)\n",
    "        self.lstm = nn.LSTM(embedding_dim, hidden_dim, batch_first=True)\n",
    "        self.fc = nn.Linear(hidden_dim, num_classes)\n",
    "        self.softmax = nn.Softmax(dim=1)\n",
    "\n",
    "    def forward(self, x):\n",
    "        embedded = self.embedding(x)\n",
    "        _, (hidden, _) = self.lstm(embedded)\n",
    "        output = self.fc(hidden[-1])\n",
    "        return self.softmax(output)\n",
    "\n",
    "# Initialize model\n",
    "VOCAB_SIZE = tokenizer.vocab_size\n",
    "model = LSTMClassifier(VOCAB_SIZE, EMBEDDING_DIM, HIDDEN_DIM, NUM_CLASSES)\n",
    "\n",
    "# Loss and optimizer\n",
    "criterion = nn.CrossEntropyLoss()\n",
    "optimizer = torch.optim.Adam(model.parameters(), lr=1e-3)"
   ]
  },
  {
   "cell_type": "code",
   "execution_count": 17,
   "metadata": {
    "execution": {
     "iopub.execute_input": "2024-11-20T15:17:16.735715Z",
     "iopub.status.busy": "2024-11-20T15:17:16.735064Z",
     "iopub.status.idle": "2024-11-20T15:17:16.741006Z",
     "shell.execute_reply": "2024-11-20T15:17:16.740116Z",
     "shell.execute_reply.started": "2024-11-20T15:17:16.735675Z"
    },
    "trusted": true
   },
   "outputs": [],
   "source": [
    "# Training Loop\n",
    "def train_epoch(model, data_loader, criterion, optimizer):\n",
    "    model.train()\n",
    "    total_loss, total_correct = 0, 0\n",
    "\n",
    "    for tokens, labels in data_loader:\n",
    "        optimizer.zero_grad()\n",
    "        outputs = model(tokens)\n",
    "        loss = criterion(outputs, labels)\n",
    "        loss.backward()\n",
    "        optimizer.step()\n",
    "\n",
    "        total_loss += loss.item()\n",
    "        total_correct += (outputs.argmax(1) == labels).sum().item()\n",
    "\n",
    "    return total_loss / len(data_loader), total_correct / len(train_loader.dataset)"
   ]
  },
  {
   "cell_type": "code",
   "execution_count": 18,
   "metadata": {
    "execution": {
     "iopub.execute_input": "2024-11-20T15:17:16.742350Z",
     "iopub.status.busy": "2024-11-20T15:17:16.742090Z",
     "iopub.status.idle": "2024-11-20T15:17:16.754588Z",
     "shell.execute_reply": "2024-11-20T15:17:16.753761Z",
     "shell.execute_reply.started": "2024-11-20T15:17:16.742326Z"
    },
    "trusted": true
   },
   "outputs": [],
   "source": [
    "# Evaluation Function\n",
    "def evaluate(model, data_loader, criterion):\n",
    "    model.eval()\n",
    "    total_loss, total_correct = 0, 0\n",
    "    predictions, true_labels = [], []\n",
    "\n",
    "    with torch.no_grad():\n",
    "        for tokens, labels in data_loader:\n",
    "            outputs = model(tokens)\n",
    "            loss = criterion(outputs, labels)\n",
    "\n",
    "            total_loss += loss.item()\n",
    "            total_correct += (outputs.argmax(1) == labels).sum().item()\n",
    "\n",
    "            predictions.extend(outputs.argmax(1).tolist())\n",
    "            true_labels.extend(labels.tolist())\n",
    "\n",
    "    return total_loss / len(data_loader), total_correct / len(data_loader.dataset), predictions, true_labels"
   ]
  },
  {
   "cell_type": "code",
   "execution_count": 19,
   "metadata": {
    "execution": {
     "iopub.execute_input": "2024-11-20T15:17:16.755851Z",
     "iopub.status.busy": "2024-11-20T15:17:16.755581Z",
     "iopub.status.idle": "2024-11-20T15:18:07.558227Z",
     "shell.execute_reply": "2024-11-20T15:18:07.557285Z",
     "shell.execute_reply.started": "2024-11-20T15:17:16.755827Z"
    },
    "trusted": true
   },
   "outputs": [
    {
     "name": "stdout",
     "output_type": "stream",
     "text": [
      "Epoch 1/10\n",
      "Train Loss: 0.6938, Train Accuracy: 0.5185\n",
      "Val Loss: 0.6904, Val Accuracy: 0.5338\n",
      "Epoch 2/10\n",
      "Train Loss: 0.6910, Train Accuracy: 0.5332\n",
      "Val Loss: 0.6885, Val Accuracy: 0.5413\n",
      "Epoch 3/10\n",
      "Train Loss: 0.6898, Train Accuracy: 0.5356\n",
      "Val Loss: 0.6887, Val Accuracy: 0.5370\n",
      "Epoch 4/10\n",
      "Train Loss: 0.6360, Train Accuracy: 0.6420\n",
      "Val Loss: 0.5774, Val Accuracy: 0.7299\n",
      "Epoch 5/10\n",
      "Train Loss: 0.5290, Train Accuracy: 0.7792\n",
      "Val Loss: 0.5902, Val Accuracy: 0.7267\n",
      "Epoch 6/10\n",
      "Train Loss: 0.4856, Train Accuracy: 0.8266\n",
      "Val Loss: 0.5844, Val Accuracy: 0.7256\n",
      "Epoch 7/10\n",
      "Train Loss: 0.4664, Train Accuracy: 0.8454\n",
      "Val Loss: 0.5570, Val Accuracy: 0.7492\n",
      "Epoch 8/10\n",
      "Train Loss: 0.4336, Train Accuracy: 0.8794\n",
      "Val Loss: 0.5278, Val Accuracy: 0.7899\n",
      "Epoch 9/10\n",
      "Train Loss: 0.4201, Train Accuracy: 0.8912\n",
      "Val Loss: 0.5240, Val Accuracy: 0.7953\n",
      "Epoch 10/10\n",
      "Train Loss: 0.4081, Train Accuracy: 0.9035\n",
      "Val Loss: 0.5358, Val Accuracy: 0.7856\n"
     ]
    }
   ],
   "source": [
    "# Training loop\n",
    "for epoch in range(EPOCHS):\n",
    "    train_loss, train_acc = train_epoch(model, train_loader, criterion, optimizer)\n",
    "    val_loss, val_acc, _, _ = evaluate(model, val_loader, criterion)\n",
    "\n",
    "    print(f\"Epoch {epoch+1}/{EPOCHS}\")\n",
    "    print(f\"Train Loss: {train_loss:.4f}, Train Accuracy: {train_acc:.4f}\")\n",
    "    print(f\"Val Loss: {val_loss:.4f}, Val Accuracy: {val_acc:.4f}\")"
   ]
  },
  {
   "cell_type": "code",
   "execution_count": 20,
   "metadata": {
    "execution": {
     "iopub.execute_input": "2024-11-20T15:18:07.559811Z",
     "iopub.status.busy": "2024-11-20T15:18:07.559477Z",
     "iopub.status.idle": "2024-11-20T15:18:08.081051Z",
     "shell.execute_reply": "2024-11-20T15:18:08.080268Z",
     "shell.execute_reply.started": "2024-11-20T15:18:07.559782Z"
    },
    "trusted": true
   },
   "outputs": [
    {
     "name": "stdout",
     "output_type": "stream",
     "text": [
      "Test Loss: 0.5560, Test Accuracy: 0.7466\n",
      "              precision    recall  f1-score   support\n",
      "\n",
      "           0       0.78      0.74      0.76       713\n",
      "           1       0.71      0.75      0.73       605\n",
      "\n",
      "    accuracy                           0.75      1318\n",
      "   macro avg       0.75      0.75      0.75      1318\n",
      "weighted avg       0.75      0.75      0.75      1318\n",
      "\n"
     ]
    },
    {
     "data": {
      "image/png": "[encoded data removed]",
      "text/plain": [
       "<Figure size 800x600 with 2 Axes>"
      ]
     },
     "metadata": {},
     "output_type": "display_data"
    }
   ],
   "source": [
    "# Test Evaluation\n",
    "test_loss, test_acc, test_preds, test_true = evaluate(model, test_loader, criterion)\n",
    "print(f\"Test Loss: {test_loss:.4f}, Test Accuracy: {test_acc:.4f}\")\n",
    "\n",
    "# Classification Report\n",
    "class_names = [str(cls) for cls in label_encoder.classes_]  # Convert classes to strings\n",
    "print(classification_report(test_true, test_preds, target_names=class_names))\n",
    "\n",
    "# Confusion Matrix\n",
    "cm = confusion_matrix(test_true, test_preds)\n",
    "\n",
    "# Plot the confusion matrix with blue color\n",
    "plt.figure(figsize=(8, 6))\n",
    "disp = ConfusionMatrixDisplay(confusion_matrix=cm, display_labels=class_names)\n",
    "disp.plot(cmap=plt.cm.Blues, ax=plt.gca())\n",
    "plt.title(\"Confusion Matrix\")\n",
    "plt.show()"
   ]
  },
  {
   "cell_type": "markdown",
   "metadata": {},
   "source": [
    "## LLM-Based Approach"
   ]
  },
  {
   "cell_type": "markdown",
   "metadata": {},
   "source": [
    "### BERT English"
   ]
  },
  {
   "cell_type": "code",
   "execution_count": 21,
   "metadata": {
    "execution": {
     "iopub.execute_input": "2024-11-20T15:18:08.083032Z",
     "iopub.status.busy": "2024-11-20T15:18:08.082321Z",
     "iopub.status.idle": "2024-11-20T15:18:08.092978Z",
     "shell.execute_reply": "2024-11-20T15:18:08.092085Z",
     "shell.execute_reply.started": "2024-11-20T15:18:08.082988Z"
    },
    "trusted": true
   },
   "outputs": [],
   "source": [
    "# Train-Test Split\n",
    "train_texts, val_texts, train_labels, val_labels = train_test_split(\n",
    "    train['text'].tolist(), train['label'].tolist(), test_size=0.2, random_state=42, \n",
    "    stratify = train['label']\n",
    ")\n",
    "\n",
    "test_texts = test['text'].tolist()\n",
    "test_labels = test['label'].tolist()"
   ]
  },
  {
   "cell_type": "code",
   "execution_count": 23,
   "metadata": {
    "execution": {
     "iopub.execute_input": "2024-11-20T15:18:48.876795Z",
     "iopub.status.busy": "2024-11-20T15:18:48.876336Z",
     "iopub.status.idle": "2024-11-20T15:22:07.543854Z",
     "shell.execute_reply": "2024-11-20T15:22:07.542664Z",
     "shell.execute_reply.started": "2024-11-20T15:18:48.876765Z"
    },
    "trusted": true
   },
   "outputs": [
    {
     "name": "stderr",
     "output_type": "stream",
     "text": [
      "Some weights of BertForSequenceClassification were not initialized from the model checkpoint at bert-base-uncased and are newly initialized: ['classifier.bias', 'classifier.weight']\n",
      "You should probably TRAIN this model on a down-stream task to be able to use it for predictions and inference.\n"
     ]
    },
    {
     "data": {
      "text/html": [
       "\n",
       "    <div>\n",
       "      \n",
       "      <progress value='351' max='351' style='width:300px; height:20px; vertical-align: middle;'></progress>\n",
       "      [351/351 03:09, Epoch 3/3]\n",
       "    </div>\n",
       "    <table border=\"1\" class=\"dataframe\">\n",
       "  <thead>\n",
       " <tr style=\"text-align: left;\">\n",
       "      <th>Epoch</th>\n",
       "      <th>Training Loss</th>\n",
       "      <th>Validation Loss</th>\n",
       "      <th>Accuracy</th>\n",
       "      <th>Precision</th>\n",
       "      <th>Recall</th>\n",
       "      <th>F1</th>\n",
       "    </tr>\n",
       "  </thead>\n",
       "  <tbody>\n",
       "    <tr>\n",
       "      <td>1</td>\n",
       "      <td>0.644800</td>\n",
       "      <td>0.627600</td>\n",
       "      <td>0.650589</td>\n",
       "      <td>0.622449</td>\n",
       "      <td>0.864372</td>\n",
       "      <td>0.723729</td>\n",
       "    </tr>\n",
       "    <tr>\n",
       "      <td>2</td>\n",
       "      <td>0.609200</td>\n",
       "      <td>0.532090</td>\n",
       "      <td>0.738478</td>\n",
       "      <td>0.741313</td>\n",
       "      <td>0.777328</td>\n",
       "      <td>0.758893</td>\n",
       "    </tr>\n",
       "    <tr>\n",
       "      <td>3</td>\n",
       "      <td>0.475700</td>\n",
       "      <td>0.440419</td>\n",
       "      <td>0.797428</td>\n",
       "      <td>0.855478</td>\n",
       "      <td>0.742915</td>\n",
       "      <td>0.795233</td>\n",
       "    </tr>\n",
       "  </tbody>\n",
       "</table><p>"
      ],
      "text/plain": [
       "<IPython.core.display.HTML object>"
      ]
     },
     "metadata": {},
     "output_type": "display_data"
    },
    {
     "data": {
      "text/html": [],
      "text/plain": [
       "<IPython.core.display.HTML object>"
      ]
     },
     "metadata": {},
     "output_type": "display_data"
    },
    {
     "name": "stdout",
     "output_type": "stream",
     "text": [
      "{'eval_loss': 0.4404185712337494, 'eval_accuracy': 0.797427652733119, 'eval_precision': 0.8554778554778555, 'eval_recall': 0.742914979757085, 'eval_f1': 0.7952329360780066, 'eval_runtime': 4.3047, 'eval_samples_per_second': 216.74, 'eval_steps_per_second': 1.858, 'epoch': 3.0}\n"
     ]
    }
   ],
   "source": [
    "# Tokenization\n",
    "tokenizer = BertTokenizer.from_pretrained('bert-base-uncased')\n",
    "\n",
    "train_encodings = tokenizer(train_texts, truncation=True, padding=True, max_length=128)\n",
    "val_encodings = tokenizer(val_texts, truncation=True, padding=True, max_length=128)\n",
    "\n",
    "# 4. Custom Dataset Class\n",
    "class HateSpeechDataset(Dataset):\n",
    "    def __init__(self, encodings, labels):\n",
    "        self.encodings = encodings\n",
    "        self.labels = labels\n",
    "\n",
    "    def __len__(self):\n",
    "        return len(self.labels)\n",
    "\n",
    "    def __getitem__(self, idx):\n",
    "        item = {key: torch.tensor(val[idx]) for key, val in self.encodings.items()}\n",
    "        item['labels'] = torch.tensor(self.labels[idx])\n",
    "        return item\n",
    "\n",
    "train_dataset = HateSpeechDataset(train_encodings, train_labels)\n",
    "val_dataset = HateSpeechDataset(val_encodings, val_labels)\n",
    "\n",
    "# Model Initialization\n",
    "model = BertForSequenceClassification.from_pretrained('bert-base-uncased', num_labels=2)\n",
    "\n",
    "training_args = TrainingArguments(\n",
    "    output_dir='./results',\n",
    "    num_train_epochs=3,\n",
    "    per_device_train_batch_size=16,\n",
    "    per_device_eval_batch_size=64,\n",
    "    warmup_steps=500,\n",
    "    weight_decay=0.01,\n",
    "    logging_dir='./logs',\n",
    "    logging_steps=10,\n",
    "    evaluation_strategy=\"epoch\",\n",
    "    save_strategy=\"epoch\",\n",
    "    save_total_limit=2,\n",
    "    load_best_model_at_end=True,\n",
    "    report_to=\"none\"  # Disable W&B\n",
    ")\n",
    "\n",
    "# Custom metric function\n",
    "def compute_metrics(eval_pred):\n",
    "    logits, labels = eval_pred\n",
    "    predictions = torch.argmax(torch.tensor(logits), dim=1).numpy()\n",
    "    \n",
    "    # Compute metrics\n",
    "    precision, recall, f1, _ = precision_recall_fscore_support(labels, predictions, average='binary')\n",
    "    acc = accuracy_score(labels, predictions)\n",
    "    return {\n",
    "        'accuracy': acc,\n",
    "        'precision': precision,\n",
    "        'recall': recall,\n",
    "        'f1': f1\n",
    "    }\n",
    "\n",
    "# Trainer\n",
    "trainer = Trainer(\n",
    "    model=model,\n",
    "    args=training_args,\n",
    "    train_dataset=train_dataset,\n",
    "    eval_dataset=val_dataset,\n",
    "    tokenizer=tokenizer,\n",
    "    compute_metrics=compute_metrics  # Add this line\n",
    ")\n",
    "\n",
    "# Training\n",
    "trainer.train()\n",
    "\n",
    "# Save Model\n",
    "model.save_pretrained('./bert_hate_speech_model')\n",
    "tokenizer.save_pretrained('./bert_hate_speech_model')\n",
    "\n",
    "# Evaluation\n",
    "eval_results = trainer.evaluate()\n",
    "print(eval_results)\n"
   ]
  },
  {
   "cell_type": "code",
   "execution_count": 24,
   "metadata": {
    "execution": {
     "iopub.execute_input": "2024-11-20T15:22:07.546387Z",
     "iopub.status.busy": "2024-11-20T15:22:07.545960Z",
     "iopub.status.idle": "2024-11-20T15:22:20.821468Z",
     "shell.execute_reply": "2024-11-20T15:22:20.820627Z",
     "shell.execute_reply.started": "2024-11-20T15:22:07.546333Z"
    },
    "trusted": true
   },
   "outputs": [
    {
     "name": "stdout",
     "output_type": "stream",
     "text": [
      "Test Results: {'eval_loss': 0.4985214173793793, 'eval_accuracy': 0.7723823975720789, 'eval_precision': 0.7718360071301248, 'eval_recall': 0.715702479338843, 'eval_f1': 0.7427101200686107, 'eval_runtime': 6.0585, 'eval_samples_per_second': 217.547, 'eval_steps_per_second': 1.816, 'epoch': 3.0}\n",
      "                 precision    recall  f1-score   support\n",
      "\n",
      "Non-Hate Speech       0.77      0.82      0.80       713\n",
      "    Hate Speech       0.77      0.72      0.74       605\n",
      "\n",
      "       accuracy                           0.77      1318\n",
      "      macro avg       0.77      0.77      0.77      1318\n",
      "   weighted avg       0.77      0.77      0.77      1318\n",
      "\n"
     ]
    },
    {
     "data": {
      "image/png": "[encoded data removed]",
      "text/plain": [
       "<Figure size 600x600 with 2 Axes>"
      ]
     },
     "metadata": {},
     "output_type": "display_data"
    }
   ],
   "source": [
    "# Tokenize the test data\n",
    "test_encodings = tokenizer(test_texts, truncation=True, padding=True, max_length=128)\n",
    "\n",
    "# Create a Dataset object for the test data\n",
    "test_dataset = HateSpeechDataset(test_encodings, test_labels)\n",
    "\n",
    "# Evaluate the model on the test dataset\n",
    "test_results = trainer.evaluate(test_dataset)\n",
    "print(\"Test Results:\", test_results)\n",
    "\n",
    "# Get predictions for the test dataset\n",
    "predictions = trainer.predict(test_dataset)\n",
    "\n",
    "# Extract logits, predictions, and true labels\n",
    "logits = predictions.predictions\n",
    "predicted_labels = torch.argmax(torch.tensor(logits), dim=1).numpy()\n",
    "true_labels = test_labels\n",
    "\n",
    "# Compute detailed metrics\n",
    "from sklearn.metrics import classification_report\n",
    "print(classification_report(true_labels, predicted_labels, target_names=[\"Non-Hate Speech\", \"Hate Speech\"]))\n",
    "\n",
    "# Confusion Matrix\n",
    "cm = confusion_matrix(true_labels, predicted_labels)\n",
    "\n",
    "# Plot the confusion matrix with blue color\n",
    "plt.figure(figsize=(6, 6))\n",
    "disp = ConfusionMatrixDisplay(confusion_matrix=cm, display_labels=[0, 1])\n",
    "disp.plot(cmap=plt.cm.Blues, ax=plt.gca())\n",
    "plt.title(\"LLM English Confusion Matrix\")\n",
    "plt.show()"
   ]
  },
  {
   "cell_type": "markdown",
   "metadata": {},
   "source": [
    "### DistilBERT English"
   ]
  },
  {
   "cell_type": "code",
   "execution_count": 25,
   "metadata": {
    "execution": {
     "iopub.execute_input": "2024-11-20T15:22:20.822771Z",
     "iopub.status.busy": "2024-11-20T15:22:20.822456Z",
     "iopub.status.idle": "2024-11-20T15:24:14.163560Z",
     "shell.execute_reply": "2024-11-20T15:24:14.162610Z",
     "shell.execute_reply.started": "2024-11-20T15:22:20.822742Z"
    },
    "trusted": true
   },
   "outputs": [
    {
     "data": {
      "application/vnd.jupyter.widget-view+json": {
       "model_id": "3fed462f659a436082b2ef6e0c368a11",
       "version_major": 2,
       "version_minor": 0
      },
      "text/plain": [
       "tokenizer_config.json:   0%|          | 0.00/48.0 [00:00<?, ?B/s]"
      ]
     },
     "metadata": {},
     "output_type": "display_data"
    },
    {
     "data": {
      "application/vnd.jupyter.widget-view+json": {
       "model_id": "b65caed5e27544d3a6daac72255a2950",
       "version_major": 2,
       "version_minor": 0
      },
      "text/plain": [
       "vocab.txt:   0%|          | 0.00/232k [00:00<?, ?B/s]"
      ]
     },
     "metadata": {},
     "output_type": "display_data"
    },
    {
     "data": {
      "application/vnd.jupyter.widget-view+json": {
       "model_id": "f8333f40f664488980375078723f9819",
       "version_major": 2,
       "version_minor": 0
      },
      "text/plain": [
       "tokenizer.json:   0%|          | 0.00/466k [00:00<?, ?B/s]"
      ]
     },
     "metadata": {},
     "output_type": "display_data"
    },
    {
     "data": {
      "application/vnd.jupyter.widget-view+json": {
       "model_id": "c48810e4ef2a4d049ec2199d2a696252",
       "version_major": 2,
       "version_minor": 0
      },
      "text/plain": [
       "config.json:   0%|          | 0.00/483 [00:00<?, ?B/s]"
      ]
     },
     "metadata": {},
     "output_type": "display_data"
    },
    {
     "data": {
      "application/vnd.jupyter.widget-view+json": {
       "model_id": "5071c3bd924843ff972d405bb1945218",
       "version_major": 2,
       "version_minor": 0
      },
      "text/plain": [
       "model.safetensors:   0%|          | 0.00/268M [00:00<?, ?B/s]"
      ]
     },
     "metadata": {},
     "output_type": "display_data"
    },
    {
     "name": "stderr",
     "output_type": "stream",
     "text": [
      "Some weights of DistilBertForSequenceClassification were not initialized from the model checkpoint at distilbert-base-uncased and are newly initialized: ['classifier.bias', 'classifier.weight', 'pre_classifier.bias', 'pre_classifier.weight']\n",
      "You should probably TRAIN this model on a down-stream task to be able to use it for predictions and inference.\n"
     ]
    },
    {
     "data": {
      "text/html": [
       "\n",
       "    <div>\n",
       "      \n",
       "      <progress value='351' max='351' style='width:300px; height:20px; vertical-align: middle;'></progress>\n",
       "      [351/351 01:44, Epoch 3/3]\n",
       "    </div>\n",
       "    <table border=\"1\" class=\"dataframe\">\n",
       "  <thead>\n",
       " <tr style=\"text-align: left;\">\n",
       "      <th>Epoch</th>\n",
       "      <th>Training Loss</th>\n",
       "      <th>Validation Loss</th>\n",
       "      <th>Accuracy</th>\n",
       "      <th>Precision</th>\n",
       "      <th>Recall</th>\n",
       "      <th>F1</th>\n",
       "    </tr>\n",
       "  </thead>\n",
       "  <tbody>\n",
       "    <tr>\n",
       "      <td>1</td>\n",
       "      <td>0.661300</td>\n",
       "      <td>0.621133</td>\n",
       "      <td>0.659164</td>\n",
       "      <td>0.705607</td>\n",
       "      <td>0.611336</td>\n",
       "      <td>0.655098</td>\n",
       "    </tr>\n",
       "    <tr>\n",
       "      <td>2</td>\n",
       "      <td>0.617400</td>\n",
       "      <td>0.483805</td>\n",
       "      <td>0.775991</td>\n",
       "      <td>0.806452</td>\n",
       "      <td>0.759109</td>\n",
       "      <td>0.782065</td>\n",
       "    </tr>\n",
       "    <tr>\n",
       "      <td>3</td>\n",
       "      <td>0.421900</td>\n",
       "      <td>0.451878</td>\n",
       "      <td>0.801715</td>\n",
       "      <td>0.899225</td>\n",
       "      <td>0.704453</td>\n",
       "      <td>0.790011</td>\n",
       "    </tr>\n",
       "  </tbody>\n",
       "</table><p>"
      ],
      "text/plain": [
       "<IPython.core.display.HTML object>"
      ]
     },
     "metadata": {},
     "output_type": "display_data"
    },
    {
     "data": {
      "text/html": [],
      "text/plain": [
       "<IPython.core.display.HTML object>"
      ]
     },
     "metadata": {},
     "output_type": "display_data"
    },
    {
     "name": "stdout",
     "output_type": "stream",
     "text": [
      "{'eval_loss': 0.4518776834011078, 'eval_accuracy': 0.8017148981779206, 'eval_precision': 0.8992248062015504, 'eval_recall': 0.7044534412955465, 'eval_f1': 0.7900113507377979, 'eval_runtime': 2.2647, 'eval_samples_per_second': 411.975, 'eval_steps_per_second': 3.532, 'epoch': 3.0}\n"
     ]
    }
   ],
   "source": [
    "from transformers import DistilBertTokenizer, DistilBertForSequenceClassification, Trainer, TrainingArguments\n",
    "from sklearn.metrics import precision_recall_fscore_support, accuracy_score\n",
    "import torch\n",
    "from torch.utils.data import Dataset\n",
    "\n",
    "# Tokenization\n",
    "tokenizer = DistilBertTokenizer.from_pretrained('distilbert-base-uncased')\n",
    "\n",
    "train_encodings = tokenizer(train_texts, truncation=True, padding=True, max_length=128)\n",
    "val_encodings = tokenizer(val_texts, truncation=True, padding=True, max_length=128)\n",
    "\n",
    "# Custom Dataset Class\n",
    "class HateSpeechDataset(Dataset):\n",
    "    def __init__(self, encodings, labels):\n",
    "        self.encodings = encodings\n",
    "        self.labels = labels\n",
    "\n",
    "    def __len__(self):\n",
    "        return len(self.labels)\n",
    "\n",
    "    def __getitem__(self, idx):\n",
    "        item = {key: torch.tensor(val[idx]) for key, val in self.encodings.items()}\n",
    "        item['labels'] = torch.tensor(self.labels[idx])\n",
    "        return item\n",
    "\n",
    "train_dataset = HateSpeechDataset(train_encodings, train_labels)\n",
    "val_dataset = HateSpeechDataset(val_encodings, val_labels)\n",
    "\n",
    "# Model Initialization\n",
    "model = DistilBertForSequenceClassification.from_pretrained('distilbert-base-uncased', num_labels=2)\n",
    "\n",
    "# Training arguments\n",
    "training_args = TrainingArguments(\n",
    "    output_dir='./results',\n",
    "    num_train_epochs=3,\n",
    "    per_device_train_batch_size=16,\n",
    "    per_device_eval_batch_size=64,\n",
    "    warmup_steps=500,\n",
    "    weight_decay=0.01,\n",
    "    logging_dir='./logs',\n",
    "    logging_steps=10,\n",
    "    evaluation_strategy=\"epoch\",\n",
    "    save_strategy=\"epoch\",\n",
    "    save_total_limit=2,\n",
    "    load_best_model_at_end=True,\n",
    "    report_to=\"none\"  # Disable W&B\n",
    ")\n",
    "\n",
    "# Custom metric function\n",
    "def compute_metrics(eval_pred):\n",
    "    logits, labels = eval_pred\n",
    "    predictions = torch.argmax(torch.tensor(logits), dim=1).numpy()\n",
    "    \n",
    "    # Compute metrics\n",
    "    precision, recall, f1, _ = precision_recall_fscore_support(labels, predictions, average='binary')\n",
    "    acc = accuracy_score(labels, predictions)\n",
    "    return {\n",
    "        'accuracy': acc,\n",
    "        'precision': precision,\n",
    "        'recall': recall,\n",
    "        'f1': f1\n",
    "    }\n",
    "\n",
    "# Trainer\n",
    "trainer = Trainer(\n",
    "    model=model,\n",
    "    args=training_args,\n",
    "    train_dataset=train_dataset,\n",
    "    eval_dataset=val_dataset,\n",
    "    tokenizer=tokenizer,\n",
    "    compute_metrics=compute_metrics  # Add this line\n",
    ")\n",
    "\n",
    "# Training\n",
    "trainer.train()\n",
    "\n",
    "# Save Model\n",
    "model.save_pretrained('./db_hate_speech_model')\n",
    "tokenizer.save_pretrained('./db_hate_speech_model')\n",
    "\n",
    "# Evaluation\n",
    "eval_results = trainer.evaluate()\n",
    "print(eval_results)"
   ]
  },
  {
   "cell_type": "code",
   "execution_count": 26,
   "metadata": {
    "execution": {
     "iopub.execute_input": "2024-11-20T15:24:14.165736Z",
     "iopub.status.busy": "2024-11-20T15:24:14.165407Z",
     "iopub.status.idle": "2024-11-20T15:24:21.511759Z",
     "shell.execute_reply": "2024-11-20T15:24:21.510915Z",
     "shell.execute_reply.started": "2024-11-20T15:24:14.165706Z"
    },
    "trusted": true
   },
   "outputs": [
    {
     "name": "stdout",
     "output_type": "stream",
     "text": [
      "Test Results: {'eval_loss': 0.4742955267429352, 'eval_accuracy': 0.8088012139605463, 'eval_precision': 0.8522954091816367, 'eval_recall': 0.7057851239669422, 'eval_f1': 0.7721518987341772, 'eval_runtime': 3.1564, 'eval_samples_per_second': 417.565, 'eval_steps_per_second': 3.485, 'epoch': 3.0}\n",
      "                 precision    recall  f1-score   support\n",
      "\n",
      "Non-Hate Speech       0.78      0.90      0.84       713\n",
      "    Hate Speech       0.85      0.71      0.77       605\n",
      "\n",
      "       accuracy                           0.81      1318\n",
      "      macro avg       0.82      0.80      0.80      1318\n",
      "   weighted avg       0.81      0.81      0.81      1318\n",
      "\n"
     ]
    },
    {
     "data": {
      "image/png": "[encoded data removed]",
      "text/plain": [
       "<Figure size 600x600 with 2 Axes>"
      ]
     },
     "metadata": {},
     "output_type": "display_data"
    }
   ],
   "source": [
    "# Tokenize the test data\n",
    "test_encodings = tokenizer(test_texts, truncation=True, padding=True, max_length=128)\n",
    "\n",
    "# Create a Dataset object for the test data\n",
    "test_dataset = HateSpeechDataset(test_encodings, test_labels)\n",
    "\n",
    "# Evaluate the model on the test dataset\n",
    "test_results = trainer.evaluate(test_dataset)\n",
    "print(\"Test Results:\", test_results)\n",
    "\n",
    "# Get predictions for the test dataset\n",
    "predictions = trainer.predict(test_dataset)\n",
    "\n",
    "# Extract logits, predictions, and true labels\n",
    "logits = predictions.predictions\n",
    "predicted_labels = torch.argmax(torch.tensor(logits), dim=1).numpy()\n",
    "true_labels = test_labels\n",
    "\n",
    "# Compute detailed metrics\n",
    "from sklearn.metrics import classification_report\n",
    "print(classification_report(true_labels, predicted_labels, target_names=[\"Non-Hate Speech\", \"Hate Speech\"]))\n",
    "\n",
    "# Confusion Matrix\n",
    "cm = confusion_matrix(true_labels, predicted_labels)\n",
    "\n",
    "# Plot the confusion matrix with blue color\n",
    "plt.figure(figsize=(6, 6))\n",
    "disp = ConfusionMatrixDisplay(confusion_matrix=cm, display_labels=[0, 1])\n",
    "disp.plot(cmap=plt.cm.Blues, ax=plt.gca())\n",
    "plt.title(\"LLM English Confusion Matrix\")\n",
    "plt.show()"
   ]
  },
  {
   "cell_type": "markdown",
   "metadata": {},
   "source": [
    "### BERT HINDI"
   ]
  },
  {
   "cell_type": "code",
   "execution_count": 27,
   "metadata": {
    "execution": {
     "iopub.execute_input": "2024-11-20T15:24:21.513810Z",
     "iopub.status.busy": "2024-11-20T15:24:21.512782Z",
     "iopub.status.idle": "2024-11-20T15:27:51.154933Z",
     "shell.execute_reply": "2024-11-20T15:27:51.154036Z",
     "shell.execute_reply.started": "2024-11-20T15:24:21.513769Z"
    },
    "trusted": true
   },
   "outputs": [
    {
     "data": {
      "application/vnd.jupyter.widget-view+json": {
       "model_id": "96ce10473ae74f28b8e35591304372e5",
       "version_major": 2,
       "version_minor": 0
      },
      "text/plain": [
       "config.json:   0%|          | 0.00/642 [00:00<?, ?B/s]"
      ]
     },
     "metadata": {},
     "output_type": "display_data"
    },
    {
     "data": {
      "application/vnd.jupyter.widget-view+json": {
       "model_id": "81dd0d82cc2a4ba3b59f969a6ce23464",
       "version_major": 2,
       "version_minor": 0
      },
      "text/plain": [
       "model.safetensors:   0%|          | 0.00/504M [00:00<?, ?B/s]"
      ]
     },
     "metadata": {},
     "output_type": "display_data"
    },
    {
     "name": "stderr",
     "output_type": "stream",
     "text": [
      "Some weights of BertForSequenceClassification were not initialized from the model checkpoint at l3cube-pune/hindi-bert-scratch and are newly initialized: ['bert.pooler.dense.bias', 'bert.pooler.dense.weight', 'classifier.bias', 'classifier.weight']\n",
      "You should probably TRAIN this model on a down-stream task to be able to use it for predictions and inference.\n"
     ]
    },
    {
     "data": {
      "text/html": [
       "\n",
       "    <div>\n",
       "      \n",
       "      <progress value='351' max='351' style='width:300px; height:20px; vertical-align: middle;'></progress>\n",
       "      [351/351 03:17, Epoch 3/3]\n",
       "    </div>\n",
       "    <table border=\"1\" class=\"dataframe\">\n",
       "  <thead>\n",
       " <tr style=\"text-align: left;\">\n",
       "      <th>Epoch</th>\n",
       "      <th>Training Loss</th>\n",
       "      <th>Validation Loss</th>\n",
       "      <th>Accuracy</th>\n",
       "      <th>Precision</th>\n",
       "      <th>Recall</th>\n",
       "      <th>F1</th>\n",
       "    </tr>\n",
       "  </thead>\n",
       "  <tbody>\n",
       "    <tr>\n",
       "      <td>1</td>\n",
       "      <td>0.384400</td>\n",
       "      <td>0.397949</td>\n",
       "      <td>0.813505</td>\n",
       "      <td>0.857143</td>\n",
       "      <td>0.777328</td>\n",
       "      <td>0.815287</td>\n",
       "    </tr>\n",
       "    <tr>\n",
       "      <td>2</td>\n",
       "      <td>0.459800</td>\n",
       "      <td>0.372666</td>\n",
       "      <td>0.825295</td>\n",
       "      <td>0.859002</td>\n",
       "      <td>0.801619</td>\n",
       "      <td>0.829319</td>\n",
       "    </tr>\n",
       "    <tr>\n",
       "      <td>3</td>\n",
       "      <td>0.299600</td>\n",
       "      <td>0.466913</td>\n",
       "      <td>0.832797</td>\n",
       "      <td>0.898585</td>\n",
       "      <td>0.771255</td>\n",
       "      <td>0.830065</td>\n",
       "    </tr>\n",
       "  </tbody>\n",
       "</table><p>"
      ],
      "text/plain": [
       "<IPython.core.display.HTML object>"
      ]
     },
     "metadata": {},
     "output_type": "display_data"
    },
    {
     "data": {
      "text/html": [],
      "text/plain": [
       "<IPython.core.display.HTML object>"
      ]
     },
     "metadata": {},
     "output_type": "display_data"
    },
    {
     "name": "stdout",
     "output_type": "stream",
     "text": [
      "{'eval_loss': 0.37266576290130615, 'eval_accuracy': 0.8252947481243301, 'eval_precision': 0.8590021691973969, 'eval_recall': 0.8016194331983806, 'eval_f1': 0.8293193717277486, 'eval_runtime': 3.3126, 'eval_samples_per_second': 281.654, 'eval_steps_per_second': 2.415, 'epoch': 3.0}\n"
     ]
    }
   ],
   "source": [
    "# Tokenization\n",
    "tokenizer = BertTokenizer.from_pretrained(\"l3cube-pune/hindi-bert-scratch\")\n",
    "\n",
    "train_encodings = tokenizer(train_texts, truncation=True, padding=True, max_length=128)\n",
    "val_encodings = tokenizer(val_texts, truncation=True, padding=True, max_length=128)\n",
    "\n",
    "# 4. Custom Dataset Class\n",
    "class HateSpeechDataset(Dataset):\n",
    "    def __init__(self, encodings, labels):\n",
    "        self.encodings = encodings\n",
    "        self.labels = labels\n",
    "\n",
    "    def __len__(self):\n",
    "        return len(self.labels)\n",
    "\n",
    "    def __getitem__(self, idx):\n",
    "        item = {key: torch.tensor(val[idx]) for key, val in self.encodings.items()}\n",
    "        item['labels'] = torch.tensor(self.labels[idx])\n",
    "        return item\n",
    "\n",
    "train_dataset = HateSpeechDataset(train_encodings, train_labels)\n",
    "val_dataset = HateSpeechDataset(val_encodings, val_labels)\n",
    "\n",
    "# Model Initialization\n",
    "model = BertForSequenceClassification.from_pretrained(\"l3cube-pune/hindi-bert-scratch\", num_labels=2)\n",
    "\n",
    "training_args = TrainingArguments(\n",
    "    output_dir='./results',\n",
    "    num_train_epochs=3,\n",
    "    per_device_train_batch_size=16,\n",
    "    per_device_eval_batch_size=64,\n",
    "    warmup_steps=500,\n",
    "    weight_decay=0.01,\n",
    "    logging_dir='./logs',\n",
    "    logging_steps=10,\n",
    "    evaluation_strategy=\"epoch\",\n",
    "    save_strategy=\"epoch\",\n",
    "    save_total_limit=2,\n",
    "    load_best_model_at_end=True,\n",
    "    report_to=\"none\"  # Disable W&B\n",
    ")\n",
    "\n",
    "# Custom metric function\n",
    "def compute_metrics(eval_pred):\n",
    "    logits, labels = eval_pred\n",
    "    predictions = torch.argmax(torch.tensor(logits), dim=1).numpy()\n",
    "    \n",
    "    # Compute metrics\n",
    "    precision, recall, f1, _ = precision_recall_fscore_support(labels, predictions, average='binary')\n",
    "    acc = accuracy_score(labels, predictions)\n",
    "    return {\n",
    "        'accuracy': acc,\n",
    "        'precision': precision,\n",
    "        'recall': recall,\n",
    "        'f1': f1\n",
    "    }\n",
    "\n",
    "# Trainer\n",
    "trainer = Trainer(\n",
    "    model=model,\n",
    "    args=training_args,\n",
    "    train_dataset=train_dataset,\n",
    "    eval_dataset=val_dataset,\n",
    "    tokenizer=tokenizer,\n",
    "    compute_metrics=compute_metrics  # Add this line\n",
    ")\n",
    "\n",
    "# Training\n",
    "trainer.train()\n",
    "\n",
    "# Save Model\n",
    "model.save_pretrained('./bert_hindi_hate_speech_model')\n",
    "tokenizer.save_pretrained('./beri_hindi_hate_speech_model')\n",
    "\n",
    "# Evaluation\n",
    "eval_results = trainer.evaluate()\n",
    "print(eval_results)"
   ]
  },
  {
   "cell_type": "code",
   "execution_count": 28,
   "metadata": {
    "execution": {
     "iopub.execute_input": "2024-11-20T15:27:51.156355Z",
     "iopub.status.busy": "2024-11-20T15:27:51.156074Z",
     "iopub.status.idle": "2024-11-20T15:28:04.286267Z",
     "shell.execute_reply": "2024-11-20T15:28:04.285101Z",
     "shell.execute_reply.started": "2024-11-20T15:27:51.156327Z"
    },
    "trusted": true
   },
   "outputs": [
    {
     "name": "stdout",
     "output_type": "stream",
     "text": [
      "Test Results: {'eval_loss': 0.3951456844806671, 'eval_accuracy': 0.802731411229135, 'eval_precision': 0.7768860353130016, 'eval_recall': 0.8, 'eval_f1': 0.7882736156351792, 'eval_runtime': 6.0367, 'eval_samples_per_second': 218.332, 'eval_steps_per_second': 1.822, 'epoch': 3.0}\n",
      "                 precision    recall  f1-score   support\n",
      "\n",
      "Non-Hate Speech       0.83      0.81      0.82       713\n",
      "    Hate Speech       0.78      0.80      0.79       605\n",
      "\n",
      "       accuracy                           0.80      1318\n",
      "      macro avg       0.80      0.80      0.80      1318\n",
      "   weighted avg       0.80      0.80      0.80      1318\n",
      "\n"
     ]
    },
    {
     "data": {
      "image/png": "[encoded data removed]",
      "text/plain": [
       "<Figure size 600x600 with 2 Axes>"
      ]
     },
     "metadata": {},
     "output_type": "display_data"
    }
   ],
   "source": [
    "# Tokenize the test data\n",
    "test_encodings = tokenizer(test_texts, truncation=True, padding=True, max_length=128)\n",
    "\n",
    "# Create a Dataset object for the test data\n",
    "test_dataset = HateSpeechDataset(test_encodings, test_labels)\n",
    "\n",
    "# Evaluate the model on the test dataset\n",
    "test_results = trainer.evaluate(test_dataset)\n",
    "print(\"Test Results:\", test_results)\n",
    "\n",
    "# Get predictions for the test dataset\n",
    "predictions = trainer.predict(test_dataset)\n",
    "\n",
    "# Extract logits, predictions, and true labels\n",
    "logits = predictions.predictions\n",
    "predicted_labels = torch.argmax(torch.tensor(logits), dim=1).numpy()\n",
    "true_labels = test_labels\n",
    "\n",
    "# Compute detailed metrics\n",
    "from sklearn.metrics import classification_report\n",
    "print(classification_report(true_labels, predicted_labels, target_names=[\"Non-Hate Speech\", \"Hate Speech\"]))\n",
    "\n",
    "# Confusion Matrix\n",
    "cm = confusion_matrix(true_labels, predicted_labels)\n",
    "\n",
    "# Plot the confusion matrix with blue color\n",
    "plt.figure(figsize=(6, 6))\n",
    "disp = ConfusionMatrixDisplay(confusion_matrix=cm, display_labels=[0, 1])\n",
    "disp.plot(cmap=plt.cm.Blues, ax=plt.gca())\n",
    "plt.title(\"LLM English Confusion Matrix\")\n",
    "plt.show()"
   ]
  },
  {
   "cell_type": "markdown",
   "metadata": {},
   "source": [
    "### Multilingual DistilBERT"
   ]
  },
  {
   "cell_type": "code",
   "execution_count": 29,
   "metadata": {
    "execution": {
     "iopub.execute_input": "2024-11-20T15:28:04.288438Z",
     "iopub.status.busy": "2024-11-20T15:28:04.287943Z",
     "iopub.status.idle": "2024-11-20T15:30:46.197478Z",
     "shell.execute_reply": "2024-11-20T15:30:46.196418Z",
     "shell.execute_reply.started": "2024-11-20T15:28:04.288385Z"
    },
    "trusted": true
   },
   "outputs": [
    {
     "data": {
      "application/vnd.jupyter.widget-view+json": {
       "model_id": "b1179f1633fb4ea193c7e7966477bda3",
       "version_major": 2,
       "version_minor": 0
      },
      "text/plain": [
       "tokenizer_config.json:   0%|          | 0.00/49.0 [00:00<?, ?B/s]"
      ]
     },
     "metadata": {},
     "output_type": "display_data"
    },
    {
     "data": {
      "application/vnd.jupyter.widget-view+json": {
       "model_id": "1427f2e3ca7e44b3a151221f4664eef8",
       "version_major": 2,
       "version_minor": 0
      },
      "text/plain": [
       "vocab.txt:   0%|          | 0.00/996k [00:00<?, ?B/s]"
      ]
     },
     "metadata": {},
     "output_type": "display_data"
    },
    {
     "data": {
      "application/vnd.jupyter.widget-view+json": {
       "model_id": "572bf26cbea14e11bd099a0e77fbed91",
       "version_major": 2,
       "version_minor": 0
      },
      "text/plain": [
       "tokenizer.json:   0%|          | 0.00/1.96M [00:00<?, ?B/s]"
      ]
     },
     "metadata": {},
     "output_type": "display_data"
    },
    {
     "data": {
      "application/vnd.jupyter.widget-view+json": {
       "model_id": "22ccb6d641b74be090da834cc4db515b",
       "version_major": 2,
       "version_minor": 0
      },
      "text/plain": [
       "config.json:   0%|          | 0.00/466 [00:00<?, ?B/s]"
      ]
     },
     "metadata": {},
     "output_type": "display_data"
    },
    {
     "data": {
      "application/vnd.jupyter.widget-view+json": {
       "model_id": "c02c54cba8fb4582b49e9ed2f74c8f28",
       "version_major": 2,
       "version_minor": 0
      },
      "text/plain": [
       "model.safetensors:   0%|          | 0.00/542M [00:00<?, ?B/s]"
      ]
     },
     "metadata": {},
     "output_type": "display_data"
    },
    {
     "name": "stderr",
     "output_type": "stream",
     "text": [
      "Some weights of DistilBertForSequenceClassification were not initialized from the model checkpoint at distilbert/distilbert-base-multilingual-cased and are newly initialized: ['classifier.bias', 'classifier.weight', 'pre_classifier.bias', 'pre_classifier.weight']\n",
      "You should probably TRAIN this model on a down-stream task to be able to use it for predictions and inference.\n"
     ]
    },
    {
     "data": {
      "text/html": [
       "\n",
       "    <div>\n",
       "      \n",
       "      <progress value='351' max='351' style='width:300px; height:20px; vertical-align: middle;'></progress>\n",
       "      [351/351 02:21, Epoch 3/3]\n",
       "    </div>\n",
       "    <table border=\"1\" class=\"dataframe\">\n",
       "  <thead>\n",
       " <tr style=\"text-align: left;\">\n",
       "      <th>Epoch</th>\n",
       "      <th>Training Loss</th>\n",
       "      <th>Validation Loss</th>\n",
       "      <th>Accuracy</th>\n",
       "      <th>Precision</th>\n",
       "      <th>Recall</th>\n",
       "      <th>F1</th>\n",
       "    </tr>\n",
       "  </thead>\n",
       "  <tbody>\n",
       "    <tr>\n",
       "      <td>1</td>\n",
       "      <td>0.579200</td>\n",
       "      <td>0.561888</td>\n",
       "      <td>0.719185</td>\n",
       "      <td>0.739669</td>\n",
       "      <td>0.724696</td>\n",
       "      <td>0.732106</td>\n",
       "    </tr>\n",
       "    <tr>\n",
       "      <td>2</td>\n",
       "      <td>0.530300</td>\n",
       "      <td>0.421004</td>\n",
       "      <td>0.812433</td>\n",
       "      <td>0.860045</td>\n",
       "      <td>0.771255</td>\n",
       "      <td>0.813234</td>\n",
       "    </tr>\n",
       "    <tr>\n",
       "      <td>3</td>\n",
       "      <td>0.383800</td>\n",
       "      <td>0.425724</td>\n",
       "      <td>0.814577</td>\n",
       "      <td>0.894349</td>\n",
       "      <td>0.736842</td>\n",
       "      <td>0.807991</td>\n",
       "    </tr>\n",
       "  </tbody>\n",
       "</table><p>"
      ],
      "text/plain": [
       "<IPython.core.display.HTML object>"
      ]
     },
     "metadata": {},
     "output_type": "display_data"
    },
    {
     "data": {
      "text/html": [],
      "text/plain": [
       "<IPython.core.display.HTML object>"
      ]
     },
     "metadata": {},
     "output_type": "display_data"
    },
    {
     "name": "stdout",
     "output_type": "stream",
     "text": [
      "{'eval_loss': 0.4210044741630554, 'eval_accuracy': 0.812433011789925, 'eval_precision': 0.8600451467268623, 'eval_recall': 0.771255060728745, 'eval_f1': 0.8132337246531484, 'eval_runtime': 2.4182, 'eval_samples_per_second': 385.829, 'eval_steps_per_second': 3.308, 'epoch': 3.0}\n"
     ]
    }
   ],
   "source": [
    "from transformers import DistilBertTokenizer, DistilBertForSequenceClassification, Trainer, TrainingArguments\n",
    "from sklearn.metrics import precision_recall_fscore_support, accuracy_score\n",
    "import torch\n",
    "from torch.utils.data import Dataset\n",
    "\n",
    "# Tokenization\n",
    "tokenizer = DistilBertTokenizer.from_pretrained('distilbert/distilbert-base-multilingual-cased')\n",
    "\n",
    "train_encodings = tokenizer(train_texts, truncation=True, padding=True, max_length=128)\n",
    "val_encodings = tokenizer(val_texts, truncation=True, padding=True, max_length=128)\n",
    "\n",
    "# Custom Dataset Class\n",
    "class HateSpeechDataset(Dataset):\n",
    "    def __init__(self, encodings, labels):\n",
    "        self.encodings = encodings\n",
    "        self.labels = labels\n",
    "\n",
    "    def __len__(self):\n",
    "        return len(self.labels)\n",
    "\n",
    "    def __getitem__(self, idx):\n",
    "        item = {key: torch.tensor(val[idx]) for key, val in self.encodings.items()}\n",
    "        item['labels'] = torch.tensor(self.labels[idx])\n",
    "        return item\n",
    "\n",
    "train_dataset = HateSpeechDataset(train_encodings, train_labels)\n",
    "val_dataset = HateSpeechDataset(val_encodings, val_labels)\n",
    "\n",
    "# Model Initialization\n",
    "model = DistilBertForSequenceClassification.from_pretrained('distilbert/distilbert-base-multilingual-cased', num_labels=2)\n",
    "\n",
    "# Training arguments\n",
    "training_args = TrainingArguments(\n",
    "    output_dir='./results',\n",
    "    num_train_epochs=3,\n",
    "    per_device_train_batch_size=16,\n",
    "    per_device_eval_batch_size=64,\n",
    "    warmup_steps=500,\n",
    "    weight_decay=0.01,\n",
    "    logging_dir='./logs',\n",
    "    logging_steps=10,\n",
    "    evaluation_strategy=\"epoch\",\n",
    "    save_strategy=\"epoch\",\n",
    "    save_total_limit=2,\n",
    "    load_best_model_at_end=True,\n",
    "    report_to=\"none\"  # Disable W&B\n",
    ")\n",
    "\n",
    "# Custom metric function\n",
    "def compute_metrics(eval_pred):\n",
    "    logits, labels = eval_pred\n",
    "    predictions = torch.argmax(torch.tensor(logits), dim=1).numpy()\n",
    "    \n",
    "    # Compute metrics\n",
    "    precision, recall, f1, _ = precision_recall_fscore_support(labels, predictions, average='binary')\n",
    "    acc = accuracy_score(labels, predictions)\n",
    "    return {\n",
    "        'accuracy': acc,\n",
    "        'precision': precision,\n",
    "        'recall': recall,\n",
    "        'f1': f1\n",
    "    }\n",
    "\n",
    "# Trainer\n",
    "trainer = Trainer(\n",
    "    model=model,\n",
    "    args=training_args,\n",
    "    train_dataset=train_dataset,\n",
    "    eval_dataset=val_dataset,\n",
    "    tokenizer=tokenizer,\n",
    "    compute_metrics=compute_metrics  # Add this line\n",
    ")\n",
    "\n",
    "# Training\n",
    "trainer.train()\n",
    "\n",
    "# Save Model\n",
    "model.save_pretrained('./mdb_hate_speech_model')\n",
    "tokenizer.save_pretrained('./mdb_hate_speech_model')\n",
    "\n",
    "# Evaluation\n",
    "eval_results = trainer.evaluate()\n",
    "print(eval_results)"
   ]
  },
  {
   "cell_type": "code",
   "execution_count": 30,
   "metadata": {
    "execution": {
     "iopub.execute_input": "2024-11-20T15:30:46.199584Z",
     "iopub.status.busy": "2024-11-20T15:30:46.198898Z",
     "iopub.status.idle": "2024-11-20T15:30:53.884464Z",
     "shell.execute_reply": "2024-11-20T15:30:53.883593Z",
     "shell.execute_reply.started": "2024-11-20T15:30:46.199529Z"
    },
    "trusted": true
   },
   "outputs": [
    {
     "name": "stdout",
     "output_type": "stream",
     "text": [
      "Test Results: {'eval_loss': 0.45443376898765564, 'eval_accuracy': 0.7966616084977238, 'eval_precision': 0.7851099830795262, 'eval_recall': 0.7669421487603306, 'eval_f1': 0.7759197324414715, 'eval_runtime': 3.3688, 'eval_samples_per_second': 391.232, 'eval_steps_per_second': 3.265, 'epoch': 3.0}\n",
      "                 precision    recall  f1-score   support\n",
      "\n",
      "Non-Hate Speech       0.81      0.82      0.81       713\n",
      "    Hate Speech       0.79      0.77      0.78       605\n",
      "\n",
      "       accuracy                           0.80      1318\n",
      "      macro avg       0.80      0.79      0.79      1318\n",
      "   weighted avg       0.80      0.80      0.80      1318\n",
      "\n"
     ]
    },
    {
     "data": {
      "image/png": "[encoded data removed]",
      "text/plain": [
       "<Figure size 600x600 with 2 Axes>"
      ]
     },
     "metadata": {},
     "output_type": "display_data"
    }
   ],
   "source": [
    "# Tokenize the test data\n",
    "test_encodings = tokenizer(test_texts, truncation=True, padding=True, max_length=128)\n",
    "\n",
    "# Create a Dataset object for the test data\n",
    "test_dataset = HateSpeechDataset(test_encodings, test_labels)\n",
    "\n",
    "# Evaluate the model on the test dataset\n",
    "test_results = trainer.evaluate(test_dataset)\n",
    "print(\"Test Results:\", test_results)\n",
    "\n",
    "# Get predictions for the test dataset\n",
    "predictions = trainer.predict(test_dataset)\n",
    "\n",
    "# Extract logits, predictions, and true labels\n",
    "logits = predictions.predictions\n",
    "predicted_labels = torch.argmax(torch.tensor(logits), dim=1).numpy()\n",
    "true_labels = test_labels\n",
    "\n",
    "# Compute detailed metrics\n",
    "from sklearn.metrics import classification_report\n",
    "print(classification_report(true_labels, predicted_labels, target_names=[\"Non-Hate Speech\", \"Hate Speech\"]))\n",
    "\n",
    "# Confusion Matrix\n",
    "cm = confusion_matrix(true_labels, predicted_labels)\n",
    "\n",
    "# Plot the confusion matrix with blue color\n",
    "plt.figure(figsize=(6, 6))\n",
    "disp = ConfusionMatrixDisplay(confusion_matrix=cm, display_labels=[0, 1])\n",
    "disp.plot(cmap=plt.cm.Blues, ax=plt.gca())\n",
    "plt.title(\"LLM English Confusion Matrix\")\n",
    "plt.show()"
   ]
  }
 ],
 "metadata": {
  "kaggle": {
   "accelerator": "nvidiaTeslaT4",
   "dataSources": [
    {
     "datasetId": 6115673,
     "sourceId": 9945665,
     "sourceType": "datasetVersion"
    }
   ],
   "dockerImageVersionId": 30787,
   "isGpuEnabled": true,
   "isInternetEnabled": true,
   "language": "python",
   "sourceType": "notebook"
  },
  "kernelspec": {
   "display_name": "Python 3",
   "language": "python",
   "name": "python3"
  },
  "language_info": {
   "codemirror_mode": {
    "name": "ipython",
    "version": 3
   },
   "file_extension": ".py",
   "mimetype": "text/x-python",
   "name": "python",
   "nbconvert_exporter": "python",
   "pygments_lexer": "ipython3",
   "version": "3.10.14"
  }
 },
 "nbformat": 4,
 "nbformat_minor": 4
}
