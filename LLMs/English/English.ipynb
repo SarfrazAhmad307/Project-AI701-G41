{
 "cells": [
  {
   "cell_type": "code",
   "execution_count": 1,
   "metadata": {
    "execution": {
     "iopub.execute_input": "2024-11-22T18:40:46.636468Z",
     "iopub.status.busy": "2024-11-22T18:40:46.635824Z",
     "iopub.status.idle": "2024-11-22T18:41:04.017042Z",
     "shell.execute_reply": "2024-11-22T18:41:04.016236Z",
     "shell.execute_reply.started": "2024-11-22T18:40:46.636435Z"
    },
    "trusted": true
   },
   "outputs": [
    {
     "name": "stdout",
     "output_type": "stream",
     "text": [
      "Requirement already satisfied: gensim in /Users/sarfrazahmad/.pyenv/versions/3.11.4/lib/python3.11/site-packages (4.3.2)\n",
      "Requirement already satisfied: numpy>=1.18.5 in /Users/sarfrazahmad/.pyenv/versions/3.11.4/lib/python3.11/site-packages (from gensim) (1.24.3)\n",
      "Requirement already satisfied: scipy>=1.7.0 in /Users/sarfrazahmad/.pyenv/versions/3.11.4/lib/python3.11/site-packages (from gensim) (1.11.2)\n",
      "Requirement already satisfied: smart-open>=1.8.1 in /Users/sarfrazahmad/.pyenv/versions/3.11.4/lib/python3.11/site-packages (from gensim) (7.0.1)\n",
      "Requirement already satisfied: wrapt in /Users/sarfrazahmad/.pyenv/versions/3.11.4/lib/python3.11/site-packages (from smart-open>=1.8.1->gensim) (1.15.0)\n"
     ]
    },
    {
     "name": "stderr",
     "output_type": "stream",
     "text": [
      "\n",
      "\u001b[1m[\u001b[0m\u001b[34;49mnotice\u001b[0m\u001b[1;39;49m]\u001b[0m\u001b[39;49m A new release of pip is available: \u001b[0m\u001b[31;49m24.2\u001b[0m\u001b[39;49m -> \u001b[0m\u001b[32;49m24.3.1\u001b[0m\n",
      "\u001b[1m[\u001b[0m\u001b[34;49mnotice\u001b[0m\u001b[1;39;49m]\u001b[0m\u001b[39;49m To update, run: \u001b[0m\u001b[32;49mpip install --upgrade pip\u001b[0m\n"
     ]
    },
    {
     "name": "stdout",
     "output_type": "stream",
     "text": [
      "Requirement already satisfied: emoji in /Users/sarfrazahmad/.pyenv/versions/3.11.4/lib/python3.11/site-packages (2.13.0)\n"
     ]
    },
    {
     "name": "stderr",
     "output_type": "stream",
     "text": [
      "\n",
      "\u001b[1m[\u001b[0m\u001b[34;49mnotice\u001b[0m\u001b[1;39;49m]\u001b[0m\u001b[39;49m A new release of pip is available: \u001b[0m\u001b[31;49m24.2\u001b[0m\u001b[39;49m -> \u001b[0m\u001b[32;49m24.3.1\u001b[0m\n",
      "\u001b[1m[\u001b[0m\u001b[34;49mnotice\u001b[0m\u001b[1;39;49m]\u001b[0m\u001b[39;49m To update, run: \u001b[0m\u001b[32;49mpip install --upgrade pip\u001b[0m\n"
     ]
    }
   ],
   "source": [
    "%%bash\n",
    "pip install gensim\n",
    "pip install emoji --no-deps"
   ]
  },
  {
   "cell_type": "markdown",
   "metadata": {},
   "source": [
    "## Import Libraries"
   ]
  },
  {
   "cell_type": "code",
   "execution_count": 2,
   "metadata": {
    "execution": {
     "iopub.execute_input": "2024-11-22T18:41:04.019048Z",
     "iopub.status.busy": "2024-11-22T18:41:04.018771Z",
     "iopub.status.idle": "2024-11-22T18:41:26.410089Z",
     "shell.execute_reply": "2024-11-22T18:41:26.409108Z",
     "shell.execute_reply.started": "2024-11-22T18:41:04.019020Z"
    },
    "trusted": true
   },
   "outputs": [
    {
     "name": "stderr",
     "output_type": "stream",
     "text": [
      "[nltk_data] Downloading package stopwords to\n",
      "[nltk_data]     /Users/sarfrazahmad/nltk_data...\n",
      "[nltk_data]   Package stopwords is already up-to-date!\n",
      "[nltk_data] Downloading package punkt to\n",
      "[nltk_data]     /Users/sarfrazahmad/nltk_data...\n",
      "[nltk_data]   Package punkt is already up-to-date!\n",
      "[nltk_data] Downloading package wordnet to\n",
      "[nltk_data]     /Users/sarfrazahmad/nltk_data...\n",
      "[nltk_data]   Package wordnet is already up-to-date!\n"
     ]
    }
   ],
   "source": [
    "import re\n",
    "import string\n",
    "import emoji\n",
    "import pandas as pd\n",
    "import nltk\n",
    "\n",
    "from bs4 import BeautifulSoup\n",
    "\n",
    "nltk.download('stopwords')\n",
    "nltk.download('punkt')\n",
    "nltk.download('wordnet')\n",
    "\n",
    "import pandas as pd\n",
    "from sklearn.utils import resample\n",
    "from wordcloud import WordCloud\n",
    "import matplotlib.pyplot as plt\n",
    "import seaborn as sns\n",
    "import numpy as np\n",
    "import re\n",
    "from sklearn.feature_extraction.text import TfidfVectorizer, TfidfTransformer, CountVectorizer\n",
    "from sklearn.model_selection import train_test_split\n",
    "from sklearn.metrics import confusion_matrix, precision_score, recall_score, f1_score, accuracy_score, roc_auc_score, roc_curve, precision_recall_curve, precision_recall_curve\n",
    "from sklearn import metrics\n",
    "from sklearn.compose import ColumnTransformer\n",
    "from sklearn.preprocessing import OneHotEncoder\n",
    "from sklearn.naive_bayes import GaussianNB\n",
    "from sklearn.tree import DecisionTreeClassifier\n",
    "from sklearn.neighbors import KNeighborsClassifier\n",
    "from sklearn.linear_model import LogisticRegression\n",
    "from sklearn.ensemble import RandomForestClassifier\n",
    "from sklearn.metrics import accuracy_score, precision_recall_fscore_support\n",
    "from sklearn import svm\n",
    "import pickle\n",
    "import time\n",
    "import pandas as pd\n",
    "from sklearn.model_selection import train_test_split\n",
    "from transformers import BertTokenizer, BertForSequenceClassification, Trainer, TrainingArguments\n",
    "from torch.utils.data import Dataset, DataLoader\n",
    "import matplotlib.pyplot as plt\n",
    "from sklearn.metrics import confusion_matrix, ConfusionMatrixDisplay\n",
    "import torch\n",
    "import torch.nn as nn\n",
    "from torch.utils.data import DataLoader, Dataset\n",
    "from sklearn.model_selection import train_test_split\n",
    "from sklearn.metrics import classification_report\n",
    "from sklearn.preprocessing import LabelEncoder\n",
    "from transformers import BertTokenizer\n",
    "from torch.nn.utils.rnn import pad_sequence\n",
    "import torch\n",
    "from transformers import BertModel, BertTokenizer\n",
    "import gc\n",
    "from transformers import (\n",
    "    BertTokenizer, BertModel,\n",
    "    RobertaTokenizer, RobertaModel,\n",
    "    DistilBertTokenizer, DistilBertModel\n",
    ")\n",
    "\n",
    "from sklearn.model_selection import train_test_split\n",
    "import re\n",
    "import os\n",
    "import requests\n",
    "import gc\n",
    "from tqdm.auto import tqdm\n",
    "\n",
    "import warnings\n",
    "warnings.filterwarnings('ignore')"
   ]
  },
  {
   "cell_type": "markdown",
   "metadata": {},
   "source": [
    "## Read Data"
   ]
  },
  {
   "cell_type": "code",
   "execution_count": 3,
   "metadata": {},
   "outputs": [],
   "source": [
    "BASE_DIR = os.path.abspath(os.path.join(os.getcwd(), '..', '..'))\n",
    "train_path = os.path.join(BASE_DIR, 'Dataset', 'english_dataset', 'english_dataset.tsv')\n",
    "test_path = os.path.join(BASE_DIR, 'Dataset', 'english_dataset', 'hasoc2019_en_test-2919.tsv')"
   ]
  },
  {
   "cell_type": "code",
   "execution_count": 4,
   "metadata": {
    "execution": {
     "iopub.execute_input": "2024-11-22T18:41:26.411888Z",
     "iopub.status.busy": "2024-11-22T18:41:26.411249Z",
     "iopub.status.idle": "2024-11-22T18:41:26.501927Z",
     "shell.execute_reply": "2024-11-22T18:41:26.501195Z",
     "shell.execute_reply.started": "2024-11-22T18:41:26.411858Z"
    },
    "trusted": true
   },
   "outputs": [],
   "source": [
    "train = pd.read_csv(train_path, sep='\\t')\n",
    "test = pd.read_csv(test_path, sep='\\t')\n",
    "\n",
    "train.drop([\"text_id\", 'task_2', 'task_3'], axis=1, inplace=True)\n",
    "test.drop([\"text_id\", 'task_2', 'task_3'], axis=1, inplace=True)\n",
    "\n",
    "# rename task_1 to label\n",
    "train.rename(columns={'task_1': 'label'}, inplace=True)\n",
    "test.rename(columns={'task_1': 'label'}, inplace=True)\n",
    "\n",
    "# Map the labels to integers\n",
    "label_map = {'HOF': 1, 'NOT': 0}\n",
    "\n",
    "train['label'] = train['label'].map(label_map)\n",
    "test['label'] = test['label'].map(label_map)"
   ]
  },
  {
   "cell_type": "code",
   "execution_count": 5,
   "metadata": {
    "execution": {
     "iopub.execute_input": "2024-11-22T18:41:26.504043Z",
     "iopub.status.busy": "2024-11-22T18:41:26.503729Z",
     "iopub.status.idle": "2024-11-22T18:41:26.511049Z",
     "shell.execute_reply": "2024-11-22T18:41:26.509970Z",
     "shell.execute_reply.started": "2024-11-22T18:41:26.504015Z"
    },
    "trusted": true
   },
   "outputs": [
    {
     "data": {
      "text/plain": [
       "((5852, 2), (1153, 2))"
      ]
     },
     "execution_count": 5,
     "metadata": {},
     "output_type": "execute_result"
    }
   ],
   "source": [
    "train.shape, test.shape"
   ]
  },
  {
   "cell_type": "markdown",
   "metadata": {},
   "source": [
    "## Data Pre-processing"
   ]
  },
  {
   "cell_type": "code",
   "execution_count": 6,
   "metadata": {
    "execution": {
     "iopub.execute_input": "2024-11-22T18:41:26.512720Z",
     "iopub.status.busy": "2024-11-22T18:41:26.512443Z",
     "iopub.status.idle": "2024-11-22T18:41:26.530942Z",
     "shell.execute_reply": "2024-11-22T18:41:26.530086Z",
     "shell.execute_reply.started": "2024-11-22T18:41:26.512694Z"
    },
    "trusted": true
   },
   "outputs": [],
   "source": [
    "# Data Cleaning\n",
    "\n",
    "# Contraction Mapping: Map commonly used contractions to their expanded forms\n",
    "# This helps normalize text and makes it easier to process later.\n",
    "contraction_mapping = {\"ain't\": \"is not\", \"aren't\": \"are not\",\"can't\": \"cannot\", \"'cause\": \"because\", \"could've\": \"could have\", \"couldn't\": \"could not\", \n",
    "                       \"didn't\": \"did not\",  \"doesn't\": \"does not\", \"don't\": \"do not\", \"hadn't\": \"had not\", \"hasn't\": \"has not\", \"haven't\": \"have not\", \n",
    "                       \"he'd\": \"he would\",\"he'll\": \"he will\", \"he's\": \"he is\", \"how'd\": \"how did\", \"how'd'y\": \"how do you\", \"how'll\": \"how will\", \n",
    "                       \"how's\": \"how is\",  \"I'd\": \"I would\", \"I'd've\": \"I would have\", \"I'll\": \"I will\", \"I'll've\": \"I will have\",\"I'm\": \"I am\",\n",
    "                       \"I've\": \"I have\", \"i'd\": \"i would\", \"i'd've\": \"i would have\", \"i'll\": \"i will\",  \"i'll've\": \"i will have\",\"i'm\": \"i am\", \n",
    "                       \"i've\": \"i have\", \"isn't\": \"is not\", \"it'd\": \"it would\", \"it'd've\": \"it would have\", \"it'll\": \"it will\", \"it'll've\": \"it will have\",\n",
    "                       \"it's\": \"it is\", \"let's\": \"let us\", \"ma'am\": \"madam\", \"mayn't\": \"may not\", \"might've\": \"might have\",\"mightn't\": \"might not\",\n",
    "                       \"mightn't've\": \"might not have\", \"must've\": \"must have\", \"mustn't\": \"must not\", \"mustn't've\": \"must not have\", \"needn't\": \"need not\", \n",
    "                       \"needn't've\": \"need not have\",\"o'clock\": \"of the clock\", \"oughtn't\": \"ought not\", \"oughtn't've\": \"ought not have\", \"shan't\": \"shall not\",\n",
    "                       \"sha'n't\": \"shall not\", \"shan't've\": \"shall not have\", \"she'd\": \"she would\", \"she'd've\": \"she would have\", \"she'll\": \"she will\", \n",
    "                       \"she'll've\": \"she will have\", \"she's\": \"she is\", \"should've\": \"should have\", \"shouldn't\": \"should not\", \"shouldn't've\": \"should not have\",\n",
    "                       \"so've\": \"so have\",\"so's\": \"so as\", \"this's\": \"this is\",\"that'd\": \"that would\", \"that'd've\": \"that would have\", \"that's\": \"that is\",\n",
    "                       \"there'd\": \"there would\", \"there'd've\": \"there would have\", \"there's\": \"there is\", \"here's\": \"here is\",\"they'd\": \"they would\",\n",
    "                       \"they'd've\": \"they would have\", \"they'll\": \"they will\", \"they'll've\": \"they will have\", \"they're\": \"they are\", \"they've\": \"they have\",\n",
    "                       \"to've\": \"to have\", \"wasn't\": \"was not\", \"we'd\": \"we would\", \"we'd've\": \"we would have\", \"we'll\": \"we will\", \"we'll've\": \"we will have\",\n",
    "                       \"we're\": \"we are\", \"we've\": \"we have\", \"weren't\": \"were not\", \"what'll\": \"what will\", \"what'll've\": \"what will have\", \n",
    "                       \"what're\": \"what are\",  \"what's\": \"what is\", \"what've\": \"what have\", \"when's\": \"when is\", \"when've\": \"when have\", \"where'd\": \"where did\",\n",
    "                       \"where's\": \"where is\", \"where've\": \"where have\", \"who'll\": \"who will\", \"who'll've\": \"who will have\", \"who's\": \"who is\", \n",
    "                       \"who've\": \"who have\", \"why's\": \"why is\", \"why've\": \"why have\", \"will've\": \"will have\", \"won't\": \"will not\", \"won't've\": \"will not have\", \n",
    "                       \"would've\": \"would have\", \"wouldn't\": \"would not\", \"wouldn't've\": \"would not have\", \"y'all\": \"you all\", \"y'all'd\": \"you all would\",\n",
    "                       \"y'all'd've\": \"you all would have\",\"y'all're\": \"you all are\",\"y'all've\": \"you all have\",\"you'd\": \"you would\", \"you'd've\": \"you would have\",\n",
    "                       \"you'll\": \"you will\", \"you'll've\": \"you will have\", \"you're\": \"you are\", \"you've\": \"you have\", 'u.s':'america', 'e.g':'for example'}\n",
    "\n",
    "# Punctuation List: Common punctuation symbols to identify and process in text\n",
    "punct = [',', '.', '\"', ':', ')', '(', '-', '!', '?', '|', ';', \"'\", '$', '&', '/', '[', ']', '>', '%', '=', '#', '*', '+', '\\\\', '•',  '~', '@', '£', \n",
    " '·', '_', '{', '}', '©', '^', '®', '`',  '<', '→', '°', '€', '™', '›',  '♥', '←', '×', '§', '″', '′', 'Â', '█', '½', 'à', '…', \n",
    " '“', '★', '”', '–', '●', 'â', '►', '−', '¢', '²', '¬', '░', '¶', '↑', '±', '¿', '▾', '═', '¦', '║', '―', '¥', '▓', '—', '‹', '─', \n",
    " '▒', '：', '¼', '⊕', '▼', '▪', '†', '■', '’', '▀', '¨', '▄', '♫', '☆', 'é', '¯', '♦', '¤', '▲', 'è', '¸', '¾', 'Ã', '⋅', '‘', '∞', \n",
    " '∙', '）', '↓', '、', '│', '（', '»', '，', '♪', '╩', '╚', '³', '・', '╦', '╣', '╔', '╗', '▬', '❤', 'ï', 'Ø', '¹', '≤', '‡', '√', ]\n",
    "\n",
    "# Punctuation Mapping: Map specific punctuation to replacements for normalization\n",
    "punct_mapping = {\"‘\": \"'\", \"₹\": \"e\", \"´\": \"'\", \"°\": \"\", \"€\": \"e\", \"™\": \"tm\", \"√\": \" sqrt \", \"×\": \"x\", \"²\": \"2\", \"—\": \"-\", \"–\": \"-\", \"’\": \"'\", \"_\": \"-\",\n",
    "                 \"`\": \"'\", '“': '\"', '”': '\"', '“': '\"', \"£\": \"e\", '∞': 'infinity', 'θ': 'theta', '÷': '/', 'α': 'alpha', '•': '.', 'à': 'a', '−': '-', \n",
    "                 'β': 'beta', '∅': '', '³': '3', 'π': 'pi', '!':' '}\n",
    "\n",
    "# Misspelling Dictionary: Map common misspellings to their correct spellings\n",
    "mispell_dict = {'colour': 'color', 'centre': 'center', 'favourite': 'favorite', 'travelling': 'traveling', 'counselling': 'counseling', 'theatre': 'theater',\n",
    "                'cancelled': 'canceled', 'labour': 'labor', 'organisation': 'organization', 'wwii': 'world war 2', 'citicise': 'criticize', 'youtu ': 'youtube ',\n",
    "                'Qoura': 'Quora', 'sallary': 'salary', 'Whta': 'What', 'narcisist': 'narcissist', 'howdo': 'how do', 'whatare': 'what are', 'howcan': 'how can',\n",
    "                'howmuch': 'how much', 'howmany': 'how many', 'whydo': 'why do', 'doI': 'do I', 'theBest': 'the best', 'howdoes': 'how does', \n",
    "                'mastrubation': 'masturbation', 'mastrubate': 'masturbate', \"mastrubating\": 'masturbating', 'pennis': 'penis', 'Etherium': 'Ethereum', \n",
    "                'narcissit': 'narcissist', 'bigdata': 'big data', '2k17': '2017', '2k18': '2018', 'qouta': 'quota', 'exboyfriend': 'ex boyfriend', \n",
    "                'airhostess': 'air hostess', \"whst\": 'what', 'watsapp': 'whatsapp', 'demonitisation': 'demonetization', 'demonitization': 'demonetization',\n",
    "                'demonetisation': 'demonetization'}"
   ]
  },
  {
   "cell_type": "code",
   "execution_count": 7,
   "metadata": {
    "execution": {
     "iopub.execute_input": "2024-11-22T18:41:26.532623Z",
     "iopub.status.busy": "2024-11-22T18:41:26.532342Z",
     "iopub.status.idle": "2024-11-22T18:41:26.546968Z",
     "shell.execute_reply": "2024-11-22T18:41:26.546092Z",
     "shell.execute_reply.started": "2024-11-22T18:41:26.532598Z"
    },
    "trusted": true
   },
   "outputs": [],
   "source": [
    "def clean_text(text):\n",
    "    '''Clean emoji, Make text lowercase, remove text in square brackets,remove links,remove punctuation\n",
    "    and remove words containing numbers.'''\n",
    "\n",
    "    # Remove User Mentions\n",
    "    text = re.sub(r'@\\w+\\s*', '', text)\n",
    "\n",
    "    # Remove Hashtags\n",
    "    text = re.sub(r'#\\w+', '', text)\n",
    "\n",
    "    # Convert emojis to demojized text if emojis exist\n",
    "    if any(char in emoji.EMOJI_DATA for char in text):\n",
    "        text = emoji.demojize(text)\n",
    "\n",
    "    # Remove only emoji placeholders (not all colon-enclosed text)\n",
    "    text = re.sub(r'\\:[a-zA-Z0-9_]+\\:', '', text)\n",
    "\n",
    "    text = str(text).lower()    #Making Text Lowercase\n",
    "    text = re.sub('\\[.*?\\]', '', text)\n",
    "    #The next 2 lines remove html text\n",
    "\n",
    "    text = BeautifulSoup(text, 'lxml').get_text()\n",
    "    text = re.sub('https?://\\S+|www\\.\\S+', '', text)\n",
    "    text = re.sub('<.*?>+', '', text)\n",
    "    text = re.sub('\\n', '', text)\n",
    "    text = re.sub('\\w*\\d\\w*', '', text)\n",
    "\n",
    "    # replacing everything with space except (a-z, A-Z, \".\", \"?\", \"!\", \",\", \"'\")\n",
    "    text = re.sub(r\"[^a-zA-Z?.!,¿']+\", \" \", text)\n",
    "    return text\n",
    "\n",
    "def clean_contractions(text, mapping):\n",
    "    '''Clean contraction using contraction mapping'''    \n",
    "    specials = [\"’\", \"‘\", \"´\", \"`\"]\n",
    "    for s in specials:\n",
    "        text = text.replace(s, \"'\")\n",
    "    for word in mapping.keys():\n",
    "        if \"\"+word+\"\" in text:\n",
    "            text = text.replace(\"\"+word+\"\", \"\"+mapping[word]+\"\")\n",
    "    #Remove Punctuations\n",
    "    text = re.sub('[%s]' % re.escape(string.punctuation), '', text)\n",
    "    # creating a space between a word and the punctuation following it\n",
    "    # eg: \"he is a boy.\" => \"he is a boy .\"\n",
    "    text = re.sub(r\"([?.!,¿])\", r\" \\1 \", text)\n",
    "    text = re.sub(r'[\" \"]+', \" \", text)\n",
    "    return text\n",
    "\n",
    "def clean_special_chars(text, punct, mapping):\n",
    "    '''Cleans special characters present(if any)'''   \n",
    "    for p in mapping:\n",
    "        text = text.replace(p, mapping[p])\n",
    "    \n",
    "    for p in punct:\n",
    "        text = text.replace(p, f' {p} ')\n",
    "    \n",
    "    specials = {'\\u200b': ' ', '…': ' ... ', '\\ufeff': '', 'करना': '', 'है': ''}  \n",
    "    for s in specials:\n",
    "        text = text.replace(s, specials[s])\n",
    "    \n",
    "    return text\n",
    "\n",
    "def correct_spelling(x, dic):\n",
    "    '''Corrects common spelling errors'''   \n",
    "    for word in dic.keys():\n",
    "        x = x.replace(word, dic[word])\n",
    "    return x\n",
    "\n",
    "def remove_space(text):\n",
    "    '''Removes awkward spaces'''   \n",
    "    #Removes awkward spaces \n",
    "    text = text.strip()\n",
    "    text = text.split()\n",
    "    return \" \".join(text)\n",
    "\n",
    "def text_preprocessing_pipeline(text):\n",
    "    '''Cleaning and parsing the text.'''\n",
    "    text = clean_text(text)\n",
    "    text = clean_contractions(text, contraction_mapping)\n",
    "    text = clean_special_chars(text, punct, punct_mapping)\n",
    "    text = correct_spelling(text, mispell_dict)\n",
    "    text = remove_space(text)\n",
    "    return text"
   ]
  },
  {
   "cell_type": "code",
   "execution_count": 8,
   "metadata": {
    "execution": {
     "iopub.execute_input": "2024-11-22T18:41:26.548240Z",
     "iopub.status.busy": "2024-11-22T18:41:26.547950Z",
     "iopub.status.idle": "2024-11-22T18:41:28.888819Z",
     "shell.execute_reply": "2024-11-22T18:41:28.887811Z",
     "shell.execute_reply.started": "2024-11-22T18:41:26.548215Z"
    },
    "trusted": true
   },
   "outputs": [
    {
     "name": "stdout",
     "output_type": "stream",
     "text": [
      "CPU times: user 2.31 s, sys: 42.3 ms, total: 2.35 s\n",
      "Wall time: 2.32 s\n"
     ]
    }
   ],
   "source": [
    "%%time\n",
    "# Pre-processing\n",
    "train['text'] = train['text'].apply(text_preprocessing_pipeline)\n",
    "test['text'] = test['text'].apply(text_preprocessing_pipeline)"
   ]
  },
  {
   "cell_type": "code",
   "execution_count": 9,
   "metadata": {
    "execution": {
     "iopub.execute_input": "2024-11-22T18:41:28.890129Z",
     "iopub.status.busy": "2024-11-22T18:41:28.889856Z",
     "iopub.status.idle": "2024-11-22T18:41:28.901825Z",
     "shell.execute_reply": "2024-11-22T18:41:28.901047Z",
     "shell.execute_reply.started": "2024-11-22T18:41:28.890103Z"
    },
    "trusted": true
   },
   "outputs": [
    {
     "data": {
      "text/html": [
       "<div>\n",
       "<style scoped>\n",
       "    .dataframe tbody tr th:only-of-type {\n",
       "        vertical-align: middle;\n",
       "    }\n",
       "\n",
       "    .dataframe tbody tr th {\n",
       "        vertical-align: top;\n",
       "    }\n",
       "\n",
       "    .dataframe thead th {\n",
       "        text-align: right;\n",
       "    }\n",
       "</style>\n",
       "<table border=\"1\" class=\"dataframe\">\n",
       "  <thead>\n",
       "    <tr style=\"text-align: right;\">\n",
       "      <th></th>\n",
       "      <th>text</th>\n",
       "      <th>label</th>\n",
       "    </tr>\n",
       "  </thead>\n",
       "  <tbody>\n",
       "    <tr>\n",
       "      <th>0</th>\n",
       "      <td>watch sports minister kiren rijiju issues stat...</td>\n",
       "      <td>0</td>\n",
       "    </tr>\n",
       "    <tr>\n",
       "      <th>1</th>\n",
       "      <td>no we should remember very clearly that just a...</td>\n",
       "      <td>1</td>\n",
       "    </tr>\n",
       "    <tr>\n",
       "      <th>2</th>\n",
       "      <td>guess who would be the winner of this team who...</td>\n",
       "      <td>0</td>\n",
       "    </tr>\n",
       "    <tr>\n",
       "      <th>3</th>\n",
       "      <td>corbyn is too politically intellectual for can...</td>\n",
       "      <td>0</td>\n",
       "    </tr>\n",
       "    <tr>\n",
       "      <th>4</th>\n",
       "      <td>all the best to for another swimming competiti...</td>\n",
       "      <td>0</td>\n",
       "    </tr>\n",
       "  </tbody>\n",
       "</table>\n",
       "</div>"
      ],
      "text/plain": [
       "                                                text  label\n",
       "0  watch sports minister kiren rijiju issues stat...      0\n",
       "1  no we should remember very clearly that just a...      1\n",
       "2  guess who would be the winner of this team who...      0\n",
       "3  corbyn is too politically intellectual for can...      0\n",
       "4  all the best to for another swimming competiti...      0"
      ]
     },
     "execution_count": 9,
     "metadata": {},
     "output_type": "execute_result"
    }
   ],
   "source": [
    "train.head()"
   ]
  },
  {
   "cell_type": "code",
   "execution_count": 10,
   "metadata": {
    "execution": {
     "iopub.execute_input": "2024-11-22T18:41:28.903252Z",
     "iopub.status.busy": "2024-11-22T18:41:28.902902Z",
     "iopub.status.idle": "2024-11-22T18:41:28.912833Z",
     "shell.execute_reply": "2024-11-22T18:41:28.911704Z",
     "shell.execute_reply.started": "2024-11-22T18:41:28.903215Z"
    },
    "trusted": true
   },
   "outputs": [
    {
     "data": {
      "text/html": [
       "<div>\n",
       "<style scoped>\n",
       "    .dataframe tbody tr th:only-of-type {\n",
       "        vertical-align: middle;\n",
       "    }\n",
       "\n",
       "    .dataframe tbody tr th {\n",
       "        vertical-align: top;\n",
       "    }\n",
       "\n",
       "    .dataframe thead th {\n",
       "        text-align: right;\n",
       "    }\n",
       "</style>\n",
       "<table border=\"1\" class=\"dataframe\">\n",
       "  <thead>\n",
       "    <tr style=\"text-align: right;\">\n",
       "      <th></th>\n",
       "      <th>text</th>\n",
       "      <th>label</th>\n",
       "    </tr>\n",
       "  </thead>\n",
       "  <tbody>\n",
       "    <tr>\n",
       "      <th>0</th>\n",
       "      <td>west bengal doctor crisis protesting doctors a...</td>\n",
       "      <td>0</td>\n",
       "    </tr>\n",
       "    <tr>\n",
       "      <th>1</th>\n",
       "      <td>million people have been forced to leave their...</td>\n",
       "      <td>0</td>\n",
       "    </tr>\n",
       "    <tr>\n",
       "      <th>2</th>\n",
       "      <td>you came you saw we will look after the fort g...</td>\n",
       "      <td>0</td>\n",
       "    </tr>\n",
       "    <tr>\n",
       "      <th>3</th>\n",
       "      <td>we will get brexit delivered by october help b...</td>\n",
       "      <td>0</td>\n",
       "    </tr>\n",
       "    <tr>\n",
       "      <th>4</th>\n",
       "      <td>fuck you go back to the dark ages you cow rape...</td>\n",
       "      <td>1</td>\n",
       "    </tr>\n",
       "  </tbody>\n",
       "</table>\n",
       "</div>"
      ],
      "text/plain": [
       "                                                text  label\n",
       "0  west bengal doctor crisis protesting doctors a...      0\n",
       "1  million people have been forced to leave their...      0\n",
       "2  you came you saw we will look after the fort g...      0\n",
       "3  we will get brexit delivered by october help b...      0\n",
       "4  fuck you go back to the dark ages you cow rape...      1"
      ]
     },
     "execution_count": 10,
     "metadata": {},
     "output_type": "execute_result"
    }
   ],
   "source": [
    "test.head()"
   ]
  },
  {
   "cell_type": "markdown",
   "metadata": {},
   "source": [
    "## LSTM"
   ]
  },
  {
   "cell_type": "code",
   "execution_count": 11,
   "metadata": {
    "execution": {
     "iopub.execute_input": "2024-11-22T18:41:28.916297Z",
     "iopub.status.busy": "2024-11-22T18:41:28.915524Z",
     "iopub.status.idle": "2024-11-22T18:41:33.344540Z",
     "shell.execute_reply": "2024-11-22T18:41:33.343341Z",
     "shell.execute_reply.started": "2024-11-22T18:41:28.916268Z"
    },
    "trusted": true
   },
   "outputs": [
    {
     "data": {
      "application/vnd.jupyter.widget-view+json": {
       "model_id": "904f0561e1e347a1a6299b2e2d01ad43",
       "version_major": 2,
       "version_minor": 0
      },
      "text/plain": [
       "tokenizer_config.json:   0%|          | 0.00/48.0 [00:00<?, ?B/s]"
      ]
     },
     "metadata": {},
     "output_type": "display_data"
    },
    {
     "data": {
      "application/vnd.jupyter.widget-view+json": {
       "model_id": "3f951358555e44beba60e5273c430637",
       "version_major": 2,
       "version_minor": 0
      },
      "text/plain": [
       "vocab.txt:   0%|          | 0.00/232k [00:00<?, ?B/s]"
      ]
     },
     "metadata": {},
     "output_type": "display_data"
    },
    {
     "data": {
      "application/vnd.jupyter.widget-view+json": {
       "model_id": "99d13d0015f34327871dd7abc3dc4006",
       "version_major": 2,
       "version_minor": 0
      },
      "text/plain": [
       "tokenizer.json:   0%|          | 0.00/466k [00:00<?, ?B/s]"
      ]
     },
     "metadata": {},
     "output_type": "display_data"
    },
    {
     "data": {
      "application/vnd.jupyter.widget-view+json": {
       "model_id": "038e731bf85540eb928f40429aea8edf",
       "version_major": 2,
       "version_minor": 0
      },
      "text/plain": [
       "config.json:   0%|          | 0.00/570 [00:00<?, ?B/s]"
      ]
     },
     "metadata": {},
     "output_type": "display_data"
    }
   ],
   "source": [
    "# Parameters\n",
    "MAX_LEN = 128\n",
    "BATCH_SIZE = 32\n",
    "EPOCHS = 10\n",
    "EMBEDDING_DIM = 100\n",
    "HIDDEN_DIM = 128\n",
    "NUM_CLASSES = 2\n",
    "\n",
    "# Tokenization\n",
    "tokenizer = BertTokenizer.from_pretrained('bert-base-uncased')\n",
    "\n",
    "def tokenize_texts(texts):\n",
    "    return [torch.tensor(tokenizer.encode(text, truncation=True, max_length=MAX_LEN)) for text in texts]\n",
    "\n",
    "# Prepare datasets\n",
    "train_texts, val_texts, train_labels, val_labels = train_test_split(train['text'], train['label'], test_size=0.2, random_state=42, stratify=train['label'])\n",
    "test_texts, test_labels = test['text'], test['label']\n",
    "\n",
    "train_tokens = tokenize_texts(train_texts)\n",
    "val_tokens = tokenize_texts(val_texts)\n",
    "test_tokens = tokenize_texts(test_texts)\n",
    "\n",
    "# Label encoding\n",
    "label_encoder = LabelEncoder()\n",
    "train_labels = torch.tensor(label_encoder.fit_transform(train_labels))\n",
    "val_labels = torch.tensor(label_encoder.transform(val_labels))\n",
    "test_labels = torch.tensor(label_encoder.transform(test_labels))"
   ]
  },
  {
   "cell_type": "code",
   "execution_count": 12,
   "metadata": {
    "execution": {
     "iopub.execute_input": "2024-11-22T18:41:33.346022Z",
     "iopub.status.busy": "2024-11-22T18:41:33.345740Z",
     "iopub.status.idle": "2024-11-22T18:41:33.354910Z",
     "shell.execute_reply": "2024-11-22T18:41:33.353981Z",
     "shell.execute_reply.started": "2024-11-22T18:41:33.345994Z"
    },
    "trusted": true
   },
   "outputs": [],
   "source": [
    "# Dataset Class\n",
    "class TextDataset(Dataset):\n",
    "    def __init__(self, tokens, labels):\n",
    "        self.tokens = tokens\n",
    "        self.labels = labels\n",
    "\n",
    "    def __len__(self):\n",
    "        return len(self.labels)\n",
    "\n",
    "    def __getitem__(self, idx):\n",
    "        return self.tokens[idx], self.labels[idx]\n",
    "\n",
    "# Padding function\n",
    "def collate_fn(batch):\n",
    "    tokens, labels = zip(*batch)\n",
    "    tokens_padded = pad_sequence(tokens, batch_first=True, padding_value=tokenizer.pad_token_id)\n",
    "    return tokens_padded, torch.tensor(labels)\n",
    "\n",
    "# DataLoader\n",
    "train_dataset = TextDataset(train_tokens, train_labels)\n",
    "val_dataset = TextDataset(val_tokens, val_labels)\n",
    "test_dataset = TextDataset(test_tokens, test_labels)\n",
    "\n",
    "train_loader = DataLoader(train_dataset, batch_size=BATCH_SIZE, collate_fn=collate_fn, shuffle=True)\n",
    "val_loader = DataLoader(val_dataset, batch_size=BATCH_SIZE, collate_fn=collate_fn)\n",
    "test_loader = DataLoader(test_dataset, batch_size=BATCH_SIZE, collate_fn=collate_fn)"
   ]
  },
  {
   "cell_type": "code",
   "execution_count": 13,
   "metadata": {
    "execution": {
     "iopub.execute_input": "2024-11-22T18:41:33.356616Z",
     "iopub.status.busy": "2024-11-22T18:41:33.356124Z",
     "iopub.status.idle": "2024-11-22T18:41:33.878196Z",
     "shell.execute_reply": "2024-11-22T18:41:33.877464Z",
     "shell.execute_reply.started": "2024-11-22T18:41:33.356578Z"
    },
    "trusted": true
   },
   "outputs": [],
   "source": [
    "# LSTM Model\n",
    "class LSTMClassifier(nn.Module):\n",
    "    def __init__(self, vocab_size, embedding_dim, hidden_dim, num_classes):\n",
    "        super(LSTMClassifier, self).__init__()\n",
    "        self.embedding = nn.Embedding(vocab_size, embedding_dim)\n",
    "        self.lstm = nn.LSTM(embedding_dim, hidden_dim, batch_first=True)\n",
    "        self.fc = nn.Linear(hidden_dim, num_classes)\n",
    "        self.softmax = nn.Softmax(dim=1)\n",
    "\n",
    "    def forward(self, x):\n",
    "        embedded = self.embedding(x)\n",
    "        _, (hidden, _) = self.lstm(embedded)\n",
    "        output = self.fc(hidden[-1])\n",
    "        return self.softmax(output)\n",
    "\n",
    "# Initialize model\n",
    "VOCAB_SIZE = tokenizer.vocab_size\n",
    "model = LSTMClassifier(VOCAB_SIZE, EMBEDDING_DIM, HIDDEN_DIM, NUM_CLASSES)\n",
    "\n",
    "# Loss and optimizer\n",
    "criterion = nn.CrossEntropyLoss()\n",
    "optimizer = torch.optim.Adam(model.parameters(), lr=1e-3)"
   ]
  },
  {
   "cell_type": "code",
   "execution_count": 14,
   "metadata": {
    "execution": {
     "iopub.execute_input": "2024-11-22T18:41:33.879423Z",
     "iopub.status.busy": "2024-11-22T18:41:33.879149Z",
     "iopub.status.idle": "2024-11-22T18:41:33.884848Z",
     "shell.execute_reply": "2024-11-22T18:41:33.883978Z",
     "shell.execute_reply.started": "2024-11-22T18:41:33.879398Z"
    },
    "trusted": true
   },
   "outputs": [],
   "source": [
    "# Training Loop\n",
    "def train_epoch(model, data_loader, criterion, optimizer):\n",
    "    model.train()\n",
    "    total_loss, total_correct = 0, 0\n",
    "\n",
    "    for tokens, labels in data_loader:\n",
    "        optimizer.zero_grad()\n",
    "        outputs = model(tokens)\n",
    "        loss = criterion(outputs, labels)\n",
    "        loss.backward()\n",
    "        optimizer.step()\n",
    "\n",
    "        total_loss += loss.item()\n",
    "        total_correct += (outputs.argmax(1) == labels).sum().item()\n",
    "\n",
    "    return total_loss / len(data_loader), total_correct / len(train_loader.dataset)"
   ]
  },
  {
   "cell_type": "code",
   "execution_count": 15,
   "metadata": {
    "execution": {
     "iopub.execute_input": "2024-11-22T18:41:33.886279Z",
     "iopub.status.busy": "2024-11-22T18:41:33.885930Z",
     "iopub.status.idle": "2024-11-22T18:41:33.897128Z",
     "shell.execute_reply": "2024-11-22T18:41:33.896182Z",
     "shell.execute_reply.started": "2024-11-22T18:41:33.886242Z"
    },
    "trusted": true
   },
   "outputs": [],
   "source": [
    "# Evaluation Function\n",
    "def evaluate(model, data_loader, criterion):\n",
    "    model.eval()\n",
    "    total_loss, total_correct = 0, 0\n",
    "    predictions, true_labels = [], []\n",
    "\n",
    "    with torch.no_grad():\n",
    "        for tokens, labels in data_loader:\n",
    "            outputs = model(tokens)\n",
    "            loss = criterion(outputs, labels)\n",
    "\n",
    "            total_loss += loss.item()\n",
    "            total_correct += (outputs.argmax(1) == labels).sum().item()\n",
    "\n",
    "            predictions.extend(outputs.argmax(1).tolist())\n",
    "            true_labels.extend(labels.tolist())\n",
    "\n",
    "    return total_loss / len(data_loader), total_correct / len(data_loader.dataset), predictions, true_labels"
   ]
  },
  {
   "cell_type": "code",
   "execution_count": 16,
   "metadata": {
    "execution": {
     "iopub.execute_input": "2024-11-22T18:41:33.898976Z",
     "iopub.status.busy": "2024-11-22T18:41:33.898386Z",
     "iopub.status.idle": "2024-11-22T18:42:15.662944Z",
     "shell.execute_reply": "2024-11-22T18:42:15.661991Z",
     "shell.execute_reply.started": "2024-11-22T18:41:33.898937Z"
    },
    "trusted": true
   },
   "outputs": [
    {
     "name": "stdout",
     "output_type": "stream",
     "text": [
      "Epoch 1/10\n",
      "Train Loss: 0.6669, Train Accuracy: 0.6116\n",
      "Val Loss: 0.6677, Val Accuracy: 0.6097\n",
      "Epoch 2/10\n",
      "Train Loss: 0.6660, Train Accuracy: 0.6155\n",
      "Val Loss: 0.6677, Val Accuracy: 0.6132\n",
      "Epoch 3/10\n",
      "Train Loss: 0.6562, Train Accuracy: 0.6219\n",
      "Val Loss: 0.6626, Val Accuracy: 0.6132\n",
      "Epoch 4/10\n",
      "Train Loss: 0.6218, Train Accuracy: 0.6631\n",
      "Val Loss: 0.6551, Val Accuracy: 0.6362\n",
      "Epoch 5/10\n",
      "Train Loss: 0.5695, Train Accuracy: 0.7295\n",
      "Val Loss: 0.6595, Val Accuracy: 0.6405\n",
      "Epoch 6/10\n",
      "Train Loss: 0.5260, Train Accuracy: 0.7812\n",
      "Val Loss: 0.6889, Val Accuracy: 0.6029\n",
      "Epoch 7/10\n",
      "Train Loss: 0.4968, Train Accuracy: 0.8126\n",
      "Val Loss: 0.6875, Val Accuracy: 0.6166\n",
      "Epoch 8/10\n",
      "Train Loss: 0.4700, Train Accuracy: 0.8411\n",
      "Val Loss: 0.6905, Val Accuracy: 0.6157\n",
      "Epoch 9/10\n",
      "Train Loss: 0.4525, Train Accuracy: 0.8590\n",
      "Val Loss: 0.6957, Val Accuracy: 0.6106\n",
      "Epoch 10/10\n",
      "Train Loss: 0.4472, Train Accuracy: 0.8646\n",
      "Val Loss: 0.6942, Val Accuracy: 0.6097\n"
     ]
    }
   ],
   "source": [
    "# Training loop\n",
    "for epoch in range(EPOCHS):\n",
    "    train_loss, train_acc = train_epoch(model, train_loader, criterion, optimizer)\n",
    "    val_loss, val_acc, _, _ = evaluate(model, val_loader, criterion)\n",
    "\n",
    "    print(f\"Epoch {epoch+1}/{EPOCHS}\")\n",
    "    print(f\"Train Loss: {train_loss:.4f}, Train Accuracy: {train_acc:.4f}\")\n",
    "    print(f\"Val Loss: {val_loss:.4f}, Val Accuracy: {val_acc:.4f}\")"
   ]
  },
  {
   "cell_type": "code",
   "execution_count": 17,
   "metadata": {
    "execution": {
     "iopub.execute_input": "2024-11-22T18:42:15.664433Z",
     "iopub.status.busy": "2024-11-22T18:42:15.664117Z",
     "iopub.status.idle": "2024-11-22T18:42:16.182769Z",
     "shell.execute_reply": "2024-11-22T18:42:16.181853Z",
     "shell.execute_reply.started": "2024-11-22T18:42:15.664405Z"
    },
    "trusted": true
   },
   "outputs": [
    {
     "name": "stdout",
     "output_type": "stream",
     "text": [
      "Test Loss: 0.6070, Test Accuracy: 0.7190\n",
      "              precision    recall  f1-score   support\n",
      "\n",
      "           0       0.81      0.82      0.81       865\n",
      "           1       0.43      0.40      0.42       288\n",
      "\n",
      "    accuracy                           0.72      1153\n",
      "   macro avg       0.62      0.61      0.62      1153\n",
      "weighted avg       0.71      0.72      0.72      1153\n",
      "\n"
     ]
    },
    {
     "data": {
      "image/png": "[encoded data removed]",
      "text/plain": [
       "<Figure size 800x600 with 2 Axes>"
      ]
     },
     "metadata": {},
     "output_type": "display_data"
    }
   ],
   "source": [
    "# Test Evaluation\n",
    "test_loss, test_acc, test_preds, test_true = evaluate(model, test_loader, criterion)\n",
    "print(f\"Test Loss: {test_loss:.4f}, Test Accuracy: {test_acc:.4f}\")\n",
    "\n",
    "# Classification Report\n",
    "class_names = [str(cls) for cls in label_encoder.classes_]  # Convert classes to strings\n",
    "print(classification_report(test_true, test_preds, target_names=class_names))\n",
    "\n",
    "# Confusion Matrix\n",
    "cm = confusion_matrix(test_true, test_preds)\n",
    "\n",
    "# Plot the confusion matrix with blue color\n",
    "plt.figure(figsize=(8, 6))\n",
    "disp = ConfusionMatrixDisplay(confusion_matrix=cm, display_labels=class_names)\n",
    "disp.plot(cmap=plt.cm.Blues, ax=plt.gca())\n",
    "plt.title(\"LSTM English Confusion Matrix\")\n",
    "plt.show()"
   ]
  },
  {
   "cell_type": "markdown",
   "metadata": {},
   "source": [
    "## LLM-Based Approach"
   ]
  },
  {
   "cell_type": "markdown",
   "metadata": {},
   "source": [
    "### BERT"
   ]
  },
  {
   "cell_type": "code",
   "execution_count": 18,
   "metadata": {
    "execution": {
     "iopub.execute_input": "2024-11-22T18:42:16.184847Z",
     "iopub.status.busy": "2024-11-22T18:42:16.184093Z",
     "iopub.status.idle": "2024-11-22T18:42:16.195077Z",
     "shell.execute_reply": "2024-11-22T18:42:16.194327Z",
     "shell.execute_reply.started": "2024-11-22T18:42:16.184803Z"
    },
    "trusted": true
   },
   "outputs": [],
   "source": [
    "# Train-Test Split\n",
    "train_texts, val_texts, train_labels, val_labels = train_test_split(\n",
    "    train['text'].tolist(), train['label'].tolist(), test_size=0.2, random_state=42, \n",
    "    stratify = train['label']\n",
    ")\n",
    "\n",
    "test_texts = test['text'].tolist()\n",
    "test_labels = test['label'].tolist()"
   ]
  },
  {
   "cell_type": "code",
   "execution_count": 19,
   "metadata": {
    "execution": {
     "iopub.execute_input": "2024-11-22T18:42:16.301487Z",
     "iopub.status.busy": "2024-11-22T18:42:16.301087Z",
     "iopub.status.idle": "2024-11-22T18:45:04.070089Z",
     "shell.execute_reply": "2024-11-22T18:45:04.069163Z",
     "shell.execute_reply.started": "2024-11-22T18:42:16.301437Z"
    },
    "trusted": true
   },
   "outputs": [
    {
     "data": {
      "application/vnd.jupyter.widget-view+json": {
       "model_id": "b71b2a74ef67495585ea936285307447",
       "version_major": 2,
       "version_minor": 0
      },
      "text/plain": [
       "model.safetensors:   0%|          | 0.00/440M [00:00<?, ?B/s]"
      ]
     },
     "metadata": {},
     "output_type": "display_data"
    },
    {
     "name": "stderr",
     "output_type": "stream",
     "text": [
      "Some weights of BertForSequenceClassification were not initialized from the model checkpoint at bert-base-uncased and are newly initialized: ['classifier.bias', 'classifier.weight']\n",
      "You should probably TRAIN this model on a down-stream task to be able to use it for predictions and inference.\n"
     ]
    },
    {
     "data": {
      "text/html": [
       "\n",
       "    <div>\n",
       "      \n",
       "      <progress value='441' max='441' style='width:300px; height:20px; vertical-align: middle;'></progress>\n",
       "      [441/441 02:33, Epoch 3/3]\n",
       "    </div>\n",
       "    <table border=\"1\" class=\"dataframe\">\n",
       "  <thead>\n",
       " <tr style=\"text-align: left;\">\n",
       "      <th>Epoch</th>\n",
       "      <th>Training Loss</th>\n",
       "      <th>Validation Loss</th>\n",
       "      <th>Accuracy</th>\n",
       "      <th>Precision</th>\n",
       "      <th>Recall</th>\n",
       "      <th>F1</th>\n",
       "    </tr>\n",
       "  </thead>\n",
       "  <tbody>\n",
       "    <tr>\n",
       "      <td>1</td>\n",
       "      <td>0.620700</td>\n",
       "      <td>0.624939</td>\n",
       "      <td>0.664389</td>\n",
       "      <td>0.623431</td>\n",
       "      <td>0.329646</td>\n",
       "      <td>0.431259</td>\n",
       "    </tr>\n",
       "    <tr>\n",
       "      <td>2</td>\n",
       "      <td>0.608400</td>\n",
       "      <td>0.606890</td>\n",
       "      <td>0.683177</td>\n",
       "      <td>0.771812</td>\n",
       "      <td>0.254425</td>\n",
       "      <td>0.382696</td>\n",
       "    </tr>\n",
       "    <tr>\n",
       "      <td>3</td>\n",
       "      <td>0.499800</td>\n",
       "      <td>0.676732</td>\n",
       "      <td>0.676345</td>\n",
       "      <td>0.616613</td>\n",
       "      <td>0.426991</td>\n",
       "      <td>0.504575</td>\n",
       "    </tr>\n",
       "  </tbody>\n",
       "</table><p>"
      ],
      "text/plain": [
       "<IPython.core.display.HTML object>"
      ]
     },
     "metadata": {},
     "output_type": "display_data"
    },
    {
     "data": {
      "text/html": [],
      "text/plain": [
       "<IPython.core.display.HTML object>"
      ]
     },
     "metadata": {},
     "output_type": "display_data"
    },
    {
     "name": "stdout",
     "output_type": "stream",
     "text": [
      "{'eval_loss': 0.6068897247314453, 'eval_accuracy': 0.6831767719897524, 'eval_precision': 0.7718120805369127, 'eval_recall': 0.25442477876106195, 'eval_f1': 0.3826955074875208, 'eval_runtime': 4.6736, 'eval_samples_per_second': 250.556, 'eval_steps_per_second': 2.14, 'epoch': 3.0}\n"
     ]
    }
   ],
   "source": [
    "# Tokenization\n",
    "tokenizer = BertTokenizer.from_pretrained('bert-base-uncased')\n",
    "\n",
    "train_encodings = tokenizer(train_texts, truncation=True, padding=True, max_length=128)\n",
    "val_encodings = tokenizer(val_texts, truncation=True, padding=True, max_length=128)\n",
    "\n",
    "# 4. Custom Dataset Class\n",
    "class HateSpeechDataset(Dataset):\n",
    "    def __init__(self, encodings, labels):\n",
    "        self.encodings = encodings\n",
    "        self.labels = labels\n",
    "\n",
    "    def __len__(self):\n",
    "        return len(self.labels)\n",
    "\n",
    "    def __getitem__(self, idx):\n",
    "        item = {key: torch.tensor(val[idx]) for key, val in self.encodings.items()}\n",
    "        item['labels'] = torch.tensor(self.labels[idx])\n",
    "        return item\n",
    "\n",
    "train_dataset = HateSpeechDataset(train_encodings, train_labels)\n",
    "val_dataset = HateSpeechDataset(val_encodings, val_labels)\n",
    "\n",
    "# Model Initialization\n",
    "model = BertForSequenceClassification.from_pretrained('bert-base-uncased', num_labels=2)\n",
    "\n",
    "training_args = TrainingArguments(\n",
    "    output_dir='./results',\n",
    "    num_train_epochs=3,\n",
    "    per_device_train_batch_size=16,\n",
    "    per_device_eval_batch_size=64,\n",
    "    warmup_steps=500,\n",
    "    weight_decay=0.01,\n",
    "    logging_dir='./logs',\n",
    "    logging_steps=10,\n",
    "    evaluation_strategy=\"epoch\",\n",
    "    save_strategy=\"epoch\",\n",
    "    save_total_limit=2,\n",
    "    load_best_model_at_end=True,\n",
    "    report_to=\"none\"  # Disable W&B\n",
    ")\n",
    "\n",
    "# Custom metric function\n",
    "def compute_metrics(eval_pred):\n",
    "    logits, labels = eval_pred\n",
    "    predictions = torch.argmax(torch.tensor(logits), dim=1).numpy()\n",
    "    \n",
    "    # Compute metrics\n",
    "    precision, recall, f1, _ = precision_recall_fscore_support(labels, predictions, average='binary')\n",
    "    acc = accuracy_score(labels, predictions)\n",
    "    return {\n",
    "        'accuracy': acc,\n",
    "        'precision': precision,\n",
    "        'recall': recall,\n",
    "        'f1': f1\n",
    "    }\n",
    "\n",
    "# Trainer\n",
    "trainer = Trainer(\n",
    "    model=model,\n",
    "    args=training_args,\n",
    "    train_dataset=train_dataset,\n",
    "    eval_dataset=val_dataset,\n",
    "    tokenizer=tokenizer,\n",
    "    compute_metrics=compute_metrics  # Add this line\n",
    ")\n",
    "\n",
    "# Training\n",
    "trainer.train()\n",
    "\n",
    "# Save Model\n",
    "model.save_pretrained('.BERT')\n",
    "tokenizer.save_pretrained('.BERT')\n",
    "\n",
    "# Evaluation\n",
    "eval_results = trainer.evaluate()\n",
    "print(eval_results)\n"
   ]
  },
  {
   "cell_type": "code",
   "execution_count": 20,
   "metadata": {
    "execution": {
     "iopub.execute_input": "2024-11-22T18:45:04.072359Z",
     "iopub.status.busy": "2024-11-22T18:45:04.071578Z",
     "iopub.status.idle": "2024-11-22T18:45:12.389951Z",
     "shell.execute_reply": "2024-11-22T18:45:12.389002Z",
     "shell.execute_reply.started": "2024-11-22T18:45:04.072286Z"
    },
    "trusted": true
   },
   "outputs": [
    {
     "name": "stdout",
     "output_type": "stream",
     "text": [
      "Test Results: {'eval_loss': 0.42776310443878174, 'eval_accuracy': 0.839549002601908, 'eval_precision': 0.8366013071895425, 'eval_recall': 0.4444444444444444, 'eval_f1': 0.5804988662131519, 'eval_runtime': 3.7117, 'eval_samples_per_second': 310.642, 'eval_steps_per_second': 2.694, 'epoch': 3.0}\n",
      "                 precision    recall  f1-score   support\n",
      "\n",
      "Non-Hate Speech       0.84      0.97      0.90       865\n",
      "    Hate Speech       0.84      0.44      0.58       288\n",
      "\n",
      "       accuracy                           0.84      1153\n",
      "      macro avg       0.84      0.71      0.74      1153\n",
      "   weighted avg       0.84      0.84      0.82      1153\n",
      "\n"
     ]
    },
    {
     "data": {
      "image/png": "[encoded data removed]",
      "text/plain": [
       "<Figure size 600x600 with 2 Axes>"
      ]
     },
     "metadata": {},
     "output_type": "display_data"
    }
   ],
   "source": [
    "# Tokenize the test data\n",
    "test_encodings = tokenizer(test_texts, truncation=True, padding=True, max_length=128)\n",
    "\n",
    "# Create a Dataset object for the test data\n",
    "test_dataset = HateSpeechDataset(test_encodings, test_labels)\n",
    "\n",
    "# Evaluate the model on the test dataset\n",
    "test_results = trainer.evaluate(test_dataset)\n",
    "print(\"Test Results:\", test_results)\n",
    "\n",
    "# Get predictions for the test dataset\n",
    "predictions = trainer.predict(test_dataset)\n",
    "\n",
    "# Extract logits, predictions, and true labels\n",
    "logits = predictions.predictions\n",
    "predicted_labels = torch.argmax(torch.tensor(logits), dim=1).numpy()\n",
    "true_labels = test_labels\n",
    "\n",
    "# Compute detailed metrics\n",
    "from sklearn.metrics import classification_report\n",
    "print(classification_report(true_labels, predicted_labels, target_names=[\"Non-Hate Speech\", \"Hate Speech\"]))\n",
    "\n",
    "# Confusion Matrix\n",
    "cm = confusion_matrix(true_labels, predicted_labels)\n",
    "\n",
    "# Plot the confusion matrix with blue color\n",
    "plt.figure(figsize=(6, 6))\n",
    "disp = ConfusionMatrixDisplay(confusion_matrix=cm, display_labels=[0, 1])\n",
    "disp.plot(cmap=plt.cm.Blues, ax=plt.gca())\n",
    "plt.title(\"BERT English Confusion Matrix\")\n",
    "plt.show()"
   ]
  },
  {
   "cell_type": "markdown",
   "metadata": {},
   "source": [
    "### DistilBERT"
   ]
  },
  {
   "cell_type": "code",
   "execution_count": 23,
   "metadata": {
    "execution": {
     "iopub.execute_input": "2024-11-22T18:47:24.757018Z",
     "iopub.status.busy": "2024-11-22T18:47:24.756692Z",
     "iopub.status.idle": "2024-11-22T18:48:57.358111Z",
     "shell.execute_reply": "2024-11-22T18:48:57.356966Z",
     "shell.execute_reply.started": "2024-11-22T18:47:24.756992Z"
    },
    "trusted": true
   },
   "outputs": [
    {
     "name": "stderr",
     "output_type": "stream",
     "text": [
      "Some weights of DistilBertForSequenceClassification were not initialized from the model checkpoint at distilbert-base-uncased and are newly initialized: ['classifier.bias', 'classifier.weight', 'pre_classifier.bias', 'pre_classifier.weight']\n",
      "You should probably TRAIN this model on a down-stream task to be able to use it for predictions and inference.\n"
     ]
    },
    {
     "data": {
      "text/html": [
       "\n",
       "    <div>\n",
       "      \n",
       "      <progress value='441' max='441' style='width:300px; height:20px; vertical-align: middle;'></progress>\n",
       "      [441/441 01:25, Epoch 3/3]\n",
       "    </div>\n",
       "    <table border=\"1\" class=\"dataframe\">\n",
       "  <thead>\n",
       " <tr style=\"text-align: left;\">\n",
       "      <th>Epoch</th>\n",
       "      <th>Training Loss</th>\n",
       "      <th>Validation Loss</th>\n",
       "      <th>Accuracy</th>\n",
       "      <th>Precision</th>\n",
       "      <th>Recall</th>\n",
       "      <th>F1</th>\n",
       "    </tr>\n",
       "  </thead>\n",
       "  <tbody>\n",
       "    <tr>\n",
       "      <td>1</td>\n",
       "      <td>0.611300</td>\n",
       "      <td>0.628344</td>\n",
       "      <td>0.664389</td>\n",
       "      <td>0.676647</td>\n",
       "      <td>0.250000</td>\n",
       "      <td>0.365105</td>\n",
       "    </tr>\n",
       "    <tr>\n",
       "      <td>2</td>\n",
       "      <td>0.599800</td>\n",
       "      <td>0.603152</td>\n",
       "      <td>0.678053</td>\n",
       "      <td>0.709497</td>\n",
       "      <td>0.280973</td>\n",
       "      <td>0.402536</td>\n",
       "    </tr>\n",
       "    <tr>\n",
       "      <td>3</td>\n",
       "      <td>0.510500</td>\n",
       "      <td>0.658972</td>\n",
       "      <td>0.656704</td>\n",
       "      <td>0.570621</td>\n",
       "      <td>0.446903</td>\n",
       "      <td>0.501241</td>\n",
       "    </tr>\n",
       "  </tbody>\n",
       "</table><p>"
      ],
      "text/plain": [
       "<IPython.core.display.HTML object>"
      ]
     },
     "metadata": {},
     "output_type": "display_data"
    },
    {
     "data": {
      "text/html": [],
      "text/plain": [
       "<IPython.core.display.HTML object>"
      ]
     },
     "metadata": {},
     "output_type": "display_data"
    },
    {
     "name": "stdout",
     "output_type": "stream",
     "text": [
      "{'eval_loss': 0.6031515002250671, 'eval_accuracy': 0.6780529461998293, 'eval_precision': 0.7094972067039106, 'eval_recall': 0.2809734513274336, 'eval_f1': 0.4025356576862123, 'eval_runtime': 2.6121, 'eval_samples_per_second': 448.307, 'eval_steps_per_second': 3.828, 'epoch': 3.0}\n"
     ]
    }
   ],
   "source": [
    "from transformers import DistilBertTokenizer, DistilBertForSequenceClassification, Trainer, TrainingArguments\n",
    "from sklearn.metrics import precision_recall_fscore_support, accuracy_score\n",
    "import torch\n",
    "from torch.utils.data import Dataset\n",
    "\n",
    "# Tokenization\n",
    "tokenizer = DistilBertTokenizer.from_pretrained('distilbert-base-uncased')\n",
    "\n",
    "train_encodings = tokenizer(train_texts, truncation=True, padding=True, max_length=128)\n",
    "val_encodings = tokenizer(val_texts, truncation=True, padding=True, max_length=128)\n",
    "\n",
    "# Custom Dataset Class\n",
    "class HateSpeechDataset(Dataset):\n",
    "    def __init__(self, encodings, labels):\n",
    "        self.encodings = encodings\n",
    "        self.labels = labels\n",
    "\n",
    "    def __len__(self):\n",
    "        return len(self.labels)\n",
    "\n",
    "    def __getitem__(self, idx):\n",
    "        item = {key: torch.tensor(val[idx]) for key, val in self.encodings.items()}\n",
    "        item['labels'] = torch.tensor(self.labels[idx])\n",
    "        return item\n",
    "\n",
    "train_dataset = HateSpeechDataset(train_encodings, train_labels)\n",
    "val_dataset = HateSpeechDataset(val_encodings, val_labels)\n",
    "\n",
    "# Model Initialization\n",
    "model = DistilBertForSequenceClassification.from_pretrained('distilbert-base-uncased', num_labels=2)\n",
    "\n",
    "# Training arguments\n",
    "training_args = TrainingArguments(\n",
    "    output_dir='./results',\n",
    "    num_train_epochs=3,\n",
    "    per_device_train_batch_size=16,\n",
    "    per_device_eval_batch_size=64,\n",
    "    warmup_steps=500,\n",
    "    weight_decay=0.01,\n",
    "    logging_dir='./logs',\n",
    "    logging_steps=10,\n",
    "    evaluation_strategy=\"epoch\",\n",
    "    save_strategy=\"epoch\",\n",
    "    save_total_limit=2,\n",
    "    load_best_model_at_end=True,\n",
    "    report_to=\"none\"  # Disable W&B\n",
    ")\n",
    "\n",
    "# Custom metric function\n",
    "def compute_metrics(eval_pred):\n",
    "    logits, labels = eval_pred\n",
    "    predictions = torch.argmax(torch.tensor(logits), dim=1).numpy()\n",
    "    \n",
    "    # Compute metrics\n",
    "    precision, recall, f1, _ = precision_recall_fscore_support(labels, predictions, average='binary')\n",
    "    acc = accuracy_score(labels, predictions)\n",
    "    return {\n",
    "        'accuracy': acc,\n",
    "        'precision': precision,\n",
    "        'recall': recall,\n",
    "        'f1': f1\n",
    "    }\n",
    "\n",
    "# Trainer\n",
    "trainer = Trainer(\n",
    "    model=model,\n",
    "    args=training_args,\n",
    "    train_dataset=train_dataset,\n",
    "    eval_dataset=val_dataset,\n",
    "    tokenizer=tokenizer,\n",
    "    compute_metrics=compute_metrics  # Add this line\n",
    ")\n",
    "\n",
    "# Training\n",
    "trainer.train()\n",
    "\n",
    "# Save Model\n",
    "model.save_pretrained('./DistilBERT')\n",
    "tokenizer.save_pretrained('./DistilBERT')\n",
    "\n",
    "# Evaluation\n",
    "eval_results = trainer.evaluate()\n",
    "print(eval_results)"
   ]
  },
  {
   "cell_type": "code",
   "execution_count": 24,
   "metadata": {
    "execution": {
     "iopub.execute_input": "2024-11-22T18:48:57.360437Z",
     "iopub.status.busy": "2024-11-22T18:48:57.359993Z",
     "iopub.status.idle": "2024-11-22T18:49:02.257287Z",
     "shell.execute_reply": "2024-11-22T18:49:02.256368Z",
     "shell.execute_reply.started": "2024-11-22T18:48:57.360391Z"
    },
    "trusted": true
   },
   "outputs": [
    {
     "name": "stdout",
     "output_type": "stream",
     "text": [
      "Test Results: {'eval_loss': 0.4419659376144409, 'eval_accuracy': 0.839549002601908, 'eval_precision': 0.7754010695187166, 'eval_recall': 0.5034722222222222, 'eval_f1': 0.6105263157894736, 'eval_runtime': 1.9944, 'eval_samples_per_second': 578.128, 'eval_steps_per_second': 5.014, 'epoch': 3.0}\n",
      "                 precision    recall  f1-score   support\n",
      "\n",
      "Non-Hate Speech       0.85      0.95      0.90       865\n",
      "    Hate Speech       0.78      0.50      0.61       288\n",
      "\n",
      "       accuracy                           0.84      1153\n",
      "      macro avg       0.81      0.73      0.75      1153\n",
      "   weighted avg       0.83      0.84      0.83      1153\n",
      "\n"
     ]
    },
    {
     "data": {
      "image/png": "[encoded data removed]",
      "text/plain": [
       "<Figure size 600x600 with 2 Axes>"
      ]
     },
     "metadata": {},
     "output_type": "display_data"
    }
   ],
   "source": [
    "# Tokenize the test data\n",
    "test_encodings = tokenizer(test_texts, truncation=True, padding=True, max_length=128)\n",
    "\n",
    "# Create a Dataset object for the test data\n",
    "test_dataset = HateSpeechDataset(test_encodings, test_labels)\n",
    "\n",
    "# Evaluate the model on the test dataset\n",
    "test_results = trainer.evaluate(test_dataset)\n",
    "print(\"Test Results:\", test_results)\n",
    "\n",
    "# Get predictions for the test dataset\n",
    "predictions = trainer.predict(test_dataset)\n",
    "\n",
    "# Extract logits, predictions, and true labels\n",
    "logits = predictions.predictions\n",
    "predicted_labels = torch.argmax(torch.tensor(logits), dim=1).numpy()\n",
    "true_labels = test_labels\n",
    "\n",
    "# Compute detailed metrics\n",
    "from sklearn.metrics import classification_report\n",
    "print(classification_report(true_labels, predicted_labels, target_names=[\"Non-Hate Speech\", \"Hate Speech\"]))\n",
    "\n",
    "# Confusion Matrix\n",
    "cm = confusion_matrix(true_labels, predicted_labels)\n",
    "\n",
    "# Plot the confusion matrix with blue color\n",
    "plt.figure(figsize=(6, 6))\n",
    "disp = ConfusionMatrixDisplay(confusion_matrix=cm, display_labels=[0, 1])\n",
    "disp.plot(cmap=plt.cm.Blues, ax=plt.gca())\n",
    "plt.title(\"DistilBERT English Confusion Matrix\")\n",
    "plt.show()"
   ]
  },
  {
   "cell_type": "code",
   "execution_count": null,
   "metadata": {
    "trusted": true
   },
   "outputs": [],
   "source": []
  }
 ],
 "metadata": {
  "kaggle": {
   "accelerator": "nvidiaTeslaT4",
   "dataSources": [
    {
     "datasetId": 6102202,
     "sourceId": 9927796,
     "sourceType": "datasetVersion"
    }
   ],
   "dockerImageVersionId": 30786,
   "isGpuEnabled": true,
   "isInternetEnabled": true,
   "language": "python",
   "sourceType": "notebook"
  },
  "kernelspec": {
   "display_name": "Python 3",
   "language": "python",
   "name": "python3"
  },
  "language_info": {
   "codemirror_mode": {
    "name": "ipython",
    "version": 3
   },
   "file_extension": ".py",
   "mimetype": "text/x-python",
   "name": "python",
   "nbconvert_exporter": "python",
   "pygments_lexer": "ipython3",
   "version": "3.11.4"
  }
 },
 "nbformat": 4,
 "nbformat_minor": 4
}
